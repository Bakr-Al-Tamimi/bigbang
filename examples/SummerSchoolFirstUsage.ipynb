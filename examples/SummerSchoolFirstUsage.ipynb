{
 "cells": [
  {
   "cell_type": "code",
   "execution_count": null,
   "metadata": {
    "collapsed": true
   },
   "outputs": [],
   "source": [
    "from bigbang.archive import Archive\n",
    "from bigbang.archive import load as load_archive\n",
    "import bigbang.graph as graph\n",
    "import networkx as nx\n",
    "import os\n",
    "import pandas as pd"
   ]
  },
  {
   "cell_type": "code",
   "execution_count": null,
   "metadata": {
    "collapsed": false
   },
   "outputs": [
    {
     "name": "stderr",
     "output_type": "stream",
     "text": [
      "/home/sb/projects/nllz-bigbang/bigbang/bigbang/archive.py:73: FutureWarning: sort(columns=....) is deprecated, use sort_values(by=.....)\n",
      "  self.data.sort(columns='Date', inplace=True)\n"
     ]
    }
   ],
   "source": [
    "\n",
    "icann_path = \"../archives/http:/mm.icann.org/pipermail\"\n",
    "ncuc_path = \"../archives/http:/lists.ncuc.org/pipermail\"\n",
    "\n",
    "paths = [os.path.join(icann_path,\"ipc-gnso.csv\"),\n",
    "        os.path.join(icann_path,\"wp4.csv\"),\n",
    "        os.path.join(icann_path,\"alac.csv\"),\n",
    "        os.path.join(icann_path,\"gnso-rds-pdp-wg.csv\"),\n",
    "        os.path.join(icann_path,\"accountability-cross-community.csv\"),\n",
    "        os.path.join(icann_path,\"cc-humanrights.csv\"),\n",
    "        os.path.join(ncuc_path,\"ncuc-discuss.csv\")]\n",
    "\n",
    "archives = [load_archive(path) for path in paths]"
   ]
  },
  {
   "cell_type": "code",
   "execution_count": null,
   "metadata": {
    "collapsed": true
   },
   "outputs": [],
   "source": [
    "word = \"human rights\""
   ]
  },
  {
   "cell_type": "code",
   "execution_count": null,
   "metadata": {
    "collapsed": true
   },
   "outputs": [],
   "source": [
    "def get_first_usage(archive,word):\n",
    "    for row in archive.data.iterrows():\n",
    "        if word in row[1]['Body']:\n",
    "            print \"Message-ID: %s\" % (row[0])\n",
    "            print \"From: %s\" % (row[1]['From'])\n",
    "            print \"Body:\"\n",
    "            print row[1]['Body']\n",
    "            \n",
    "            return"
   ]
  },
  {
   "cell_type": "code",
   "execution_count": null,
   "metadata": {
    "collapsed": false
   },
   "outputs": [],
   "source": [
    "get_first_usage(archives[5],word)"
   ]
  },
  {
   "cell_type": "code",
   "execution_count": null,
   "metadata": {
    "collapsed": false
   },
   "outputs": [],
   "source": [
    "for i in range(len(paths)):\n",
    "    print \"First usage of %s in mailing list %s\" % (word,paths[i])\n",
    "    get_first_usage(archives[i],word)\n",
    "    print \"\""
   ]
  },
  {
   "cell_type": "code",
   "execution_count": null,
   "metadata": {
    "collapsed": true
   },
   "outputs": [],
   "source": []
  }
 ],
 "metadata": {
  "kernelspec": {
   "display_name": "Python 2",
   "language": "python",
   "name": "python2"
  },
  "language_info": {
   "codemirror_mode": {
    "name": "ipython",
    "version": 2
   },
   "file_extension": ".py",
   "mimetype": "text/x-python",
   "name": "python",
   "nbconvert_exporter": "python",
   "pygments_lexer": "ipython2",
   "version": "2.7.12"
  }
 },
 "nbformat": 4,
 "nbformat_minor": 0
}
