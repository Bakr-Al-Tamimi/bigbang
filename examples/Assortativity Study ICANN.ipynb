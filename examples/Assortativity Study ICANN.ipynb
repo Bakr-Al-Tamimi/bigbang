{
 "cells": [
  {
   "cell_type": "markdown",
   "metadata": {},
   "source": [
    "Everything is a network. [Assortativity](http://arxiv.org/pdf/cond-mat/0205405v1.pdf) is an interesting property of networks. It is the tendency of nodes in a network to be attached to other nodes that are similar in some way. In social networks, this is sometimes called \"homophily.\"\n",
    "\n",
    "One kind of assortativity that is particularly descriptive of network topology is *degree assortativity*. This is what it sounds like: the *assortativity* (tendency of nodes to attach to other nodes that are similar) of *degree* (the number of edges a node has).\n",
    "\n",
    "A suggestive observation by [Newman (2002)](http://arxiv.org/pdf/cond-mat/0205405v1.pdf) is that *social* networks such as academic coauthorship networks and film collaborations tend to have positive degree assortativity, while *technical* and *biological* networks tend to have negative degree assortativity. Another way of saying this is that they are *disassortatively mixed*. This has implications for the ways we model these networks forming as well as the robustness of these networks to the removal of nodes.\n",
    "\n",
    "Looking at open source software collaboration as a *sociotechnical* system, we can ask whether and to what extent the networks of activity are assortatively mixed. Are these networks more like social networks or technical networks? Or are they something in between?"
   ]
  },
  {
   "cell_type": "markdown",
   "metadata": {},
   "source": [
    "### Email reply networks\n",
    "\n",
    "One kind of network that we can extract from open source project data are networks of email replies from public mailing lists. [Mailing lists and discussion forums](http://producingoss.com/en/message-forums.html) are often the first point of contact for new community members and can be the site of non-technical social processes that are necessary for the maintenance of the community. Of all the communications media used in coordinating the cooperative work of open source development, mailing lists are the most \"social\".\n",
    "\n",
    "We are going to look at the mailing lists associated with a number of open source and on-line collaborative projects. We will construct for each list a network for which nodes are email senders (identified by their email address) and edges are the number of times a sender has replied directly to another participant on the list. Keep in mind that these are public discussions and that in a sense every reply is sent to everybody."
   ]
  },
  {
   "cell_type": "code",
   "execution_count": 1,
   "metadata": {
    "collapsed": false
   },
   "outputs": [
    {
     "name": "stderr",
     "output_type": "stream",
     "text": [
      "/home/gogol/Data/bigbang/bigbang/archive.py:74: FutureWarning: sort(columns=....) is deprecated, use sort_values(by=.....)\n",
      "  self.data.sort(columns='Date', inplace=True)\n"
     ]
    }
   ],
   "source": [
    "from bigbang.archive import Archive\n",
    "\n",
    "urls = [\"ncuc-discuss\",\n",
    "        \"cc-humanrights\"]\n",
    "\n",
    "archives= [(url,Archive(url,archive_dir=\"../archives\")) for url in urls]\n",
    "\n",
    "archives = dict(archives)"
   ]
  },
  {
   "cell_type": "markdown",
   "metadata": {},
   "source": [
    "The above code reads in preprocessed email archive data. These mailing lists are from a variety of different sources:\n",
    "\n",
    "|List name | Project  | Description |\n",
    "|---|---|---|\n",
    "|analytics| Wikimedia  |   |\n",
    "|conferences| Python  |   |\n",
    "|design| Wikimedia  |   |\n",
    "|education| Wikimedia |   |\n",
    "|gendergap| Wikimedia |   |\n",
    "|historic| OpenStreetMap |   |\n",
    "|hot| OpenStreetMap | Humanitarian OpenStreetMap Team  |\n",
    "|ietf-privacy| IETF |   |\n",
    "|ipython-dev| IPython  | Developer's list |\n",
    "|ipython-user| IPython  | User's list  |\n",
    "|languages| Wikimedia |   |\n",
    "|maps-l| Wikimedia |   |\n",
    "|numpy-discussion| Numpy  |   |\n",
    "|playground| Python  |   |\n",
    "|potlatch-dev| OpenStreetMap |   |\n",
    "|python-committers| Python |   |\n",
    "|python-dev| Python |   |\n",
    "|scipy-dev| SciPy  | Developer's list|\n",
    "|scipy-user| SciPy | User's list |\n",
    "|social-media| Wikimedia  |   |\n",
    "|spambayes| Python |   |\n",
    "|wikien-l| Wikimedia  | English language Wikipedia |\n",
    "|wikimedia-l| Wikimedia |   |\n"
   ]
  },
  {
   "cell_type": "code",
   "execution_count": 2,
   "metadata": {
    "collapsed": false
   },
   "outputs": [],
   "source": [
    "import bigbang.graph as graph\n",
    "\n",
    "igs = dict([(k,graph.messages_to_interaction_graph(v.data)) for (k,v) in archives.items()])"
   ]
  },
  {
   "cell_type": "code",
   "execution_count": 3,
   "metadata": {
    "collapsed": false
   },
   "outputs": [
    {
     "data": {
      "text/plain": [
       "{'cc-humanrights': <networkx.classes.digraph.DiGraph at 0x7fd482567710>,\n",
       " 'ncuc-discuss': <networkx.classes.digraph.DiGraph at 0x7fd47b2b7d50>}"
      ]
     },
     "execution_count": 3,
     "metadata": {},
     "output_type": "execute_result"
    }
   ],
   "source": [
    "igs"
   ]
  },
  {
   "cell_type": "markdown",
   "metadata": {},
   "source": [
    "Now we have processed the mailing lists into interaction graphs based on replies. This is what those graphs look like:"
   ]
  },
  {
   "cell_type": "code",
   "execution_count": 4,
   "metadata": {
    "collapsed": false
   },
   "outputs": [],
   "source": [
    "import networkx as nx\n",
    "\n",
    "def draw_interaction_graph(ig):\n",
    "   \n",
    "    pos = nx.graphviz_layout(ig,prog='neato')\n",
    "    node_size = [data['sent'] * 4 for name,data in ig.nodes(data=True)]\n",
    "\n",
    "    nx.draw(ig,\n",
    "        pos,\n",
    "        node_size = node_size,\n",
    "        node_color = 'b',\n",
    "        alpha = 0.4,\n",
    "        font_size=18,\n",
    "        font_weight='bold'\n",
    "    )\n",
    "\n",
    "\n",
    "    # edge width is proportional to replies sent\n",
    "    edgewidth=[d['weight'] for (u,v,d) in ig.edges(data=True)]\n",
    "\n",
    "    #overlay edges with width based on weight\n",
    "    nx.draw_networkx_edges(ig,pos,alpha=0.5,width=edgewidth,edge_color='r')"
   ]
  },
  {
   "cell_type": "code",
   "execution_count": 6,
   "metadata": {
    "collapsed": false
   },
   "outputs": [],
   "source": [
    "%matplotlib inline"
   ]
  },
  {
   "cell_type": "code",
   "execution_count": 7,
   "metadata": {
    "collapsed": false
   },
   "outputs": [],
   "source": [
    "import matplotlib.pyplot as plt"
   ]
  },
  {
   "cell_type": "code",
   "execution_count": 8,
   "metadata": {
    "collapsed": false
   },
   "outputs": [
    {
     "name": "stdout",
     "output_type": "stream",
     "text": [
      "ncuc-discuss\n",
      "plotting failure\n",
      "cc-humanrights\n",
      "plotting failure\n"
     ]
    },
    {
     "data": {
      "text/plain": [
       "<matplotlib.figure.Figure at 0x7f9f61e6d750>"
      ]
     },
     "metadata": {},
     "output_type": "display_data"
    }
   ],
   "source": [
    "plt.figure(550,figsize=(12.5, 7.5))\n",
    "for ln,ig in igs.items():\n",
    "    print ln\n",
    "    try:\n",
    "        plt.subplot(550 + i)\n",
    "        #print nx.degree_assortativity_coefficient(ig)\n",
    "        draw_interaction_graph(ig)\n",
    "    except:\n",
    "        print 'plotting failure'\n",
    "\n",
    "plt.show()"
   ]
  },
  {
   "cell_type": "markdown",
   "metadata": {},
   "source": [
    "Well, that didn't work out so well...\n",
    "\n",
    "I guess I should just go on to compute the assortativity directly.\n",
    "\n",
    "This is every mailing list, with the total number of nodes and its degree assortativity computed."
   ]
  },
  {
   "cell_type": "code",
   "execution_count": 23,
   "metadata": {
    "collapsed": false
   },
   "outputs": [
    {
     "name": "stdout",
     "output_type": "stream",
     "text": [
      "ncuc-discuss 564 -0.101284007014\n",
      "cc-humanrights 66 -0.28461465247\n"
     ]
    }
   ],
   "source": [
    "for ln,ig in igs.items():\n",
    "    print ln, len(ig.nodes()), nx.degree_assortativity_coefficient(ig,weight='weight')"
   ]
  },
  {
   "cell_type": "markdown",
   "metadata": {},
   "source": [
    "Maybe it will be helpful to compare these values to those in the Newman, 2002 paper:\n",
    "<img src=\"assortativity-values.png\">"
   ]
  },
  {
   "cell_type": "markdown",
   "metadata": {},
   "source": [
    "On the whole, with a few exceptions, these reply networks wind up looking much more like technical or biological networks than the social networks of coauthorship and collaboration. Why is this the case?\n",
    "\n",
    "One explanation is that the mechanism at work in creating these kinds of \"interaction\" networks over time is very different from the mechanism for creating collaboration or coauthorship networks. These networks are derived from real communications over time in projects actively geared towards encouraging new members and getting the most out of collaborations. Perhaps these kinds of assortativity numbers are typical in projects with leaders who have inclusivity as a priority.\n",
    "\n",
    "Another possible explanation is that these interaction networks are mirroring the structures of the technical systems that these communities are built around. There is a theory of [institutional isomorphism](http://www.jstor.org/discover/10.2307/2095101?sid=21105865961831&uid=2&uid=70&uid=2129&uid=3739560&uid=3739256&uid=4) that can be tested in this case, where social and technical institutions are paired."
   ]
  },
  {
   "cell_type": "markdown",
   "metadata": {},
   "source": [
    "### Directions for future work\n",
    "\n",
    "Look at each project domain (IPython, Wikimedia, OSM, etc.) separately but include multiple lists from each and look at assortativity within list as well as across list. This would get at how the cyberinfrastructure topology affects the social topology of the communities that use it.\n",
    "\n",
    "Use a more systematic sampling of email lists to get a typology of those lists with high and low assortativity. Figure out qualitatively what the differences in structure might mean (can always go in and *read the emails*).\n",
    "\n",
    "Build a generative graph model that with high probability creates networks with this kind of structure (apparently the existing models don't do thise well.) Test its fit across many interaction graphs, declare victory for science of modeling on-line collaboration."
   ]
  },
  {
   "cell_type": "markdown",
   "metadata": {},
   "source": [
    "### References\n",
    "\n",
    "http://producingoss.com/en/message-forums.html\n",
    "\n",
    "http://arxiv.org/abs/cond-mat/0205405\n",
    "http://arxiv.org/pdf/cond-mat/0205405v1.pdf\n",
    "\n",
    "http://arxiv.org/abs/cond-mat/0209450\n",
    "\n",
    "http://papers.ssrn.com/sol3/papers.cfm?abstract_id=2005302\n",
    "\n",
    "http://www.jstor.org/discover/10.2307/2095101?sid=21105865961831&uid=2&uid=70&uid=2129&uid=3739560&uid=3739256&uid=4"
   ]
  },
  {
   "cell_type": "code",
   "execution_count": null,
   "metadata": {
    "collapsed": false
   },
   "outputs": [],
   "source": []
  },
  {
   "cell_type": "code",
   "execution_count": null,
   "metadata": {
    "collapsed": true
   },
   "outputs": [],
   "source": []
  }
 ],
 "metadata": {
  "kernelspec": {
   "display_name": "Python 2",
   "language": "python",
   "name": "python2"
  },
  "language_info": {
   "codemirror_mode": {
    "name": "ipython",
    "version": 2
   },
   "file_extension": ".py",
   "mimetype": "text/x-python",
   "name": "python",
   "nbconvert_exporter": "python",
   "pygments_lexer": "ipython2",
   "version": "2.7.11"
  }
 },
 "nbformat": 4,
 "nbformat_minor": 0
}
