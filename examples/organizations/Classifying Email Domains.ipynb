{
 "cells": [
  {
   "cell_type": "markdown",
   "id": "lined-broadcast",
   "metadata": {},
   "source": [
    "# Classifying Email Domains\n",
    "\n",
    "This notebook explores the possibility of classifying email domains based on the characteristics of their activity distribution."
   ]
  },
  {
   "cell_type": "code",
   "execution_count": 1,
   "id": "threatened-aurora",
   "metadata": {},
   "outputs": [],
   "source": [
    "from bigbang.archive import Archive\n",
    "from config.config import CONFIG\n",
    "import bigbang.domain as domain\n",
    "import numpy as np\n",
    "import os\n",
    "import pandas as pd\n",
    "import re\n",
    "import seaborn as sns"
   ]
  },
  {
   "cell_type": "code",
   "execution_count": 2,
   "id": "varied-computer",
   "metadata": {},
   "outputs": [],
   "source": [
    "import powerlaw\n"
   ]
  },
  {
   "cell_type": "markdown",
   "id": "delayed-reasoning",
   "metadata": {},
   "source": [
    "# Domain categories\n",
    "\n",
    "This is data about known domain categories.\n",
    "\n",
    " * **Generic hosts**. Generic providers of email addresses. See https://github.com/edwin-zvs/email-providers\n",
    " * **Personal**. Email domains set up for use by an individual or a very small company.\n",
    " * **Companies**. An email domain used by the employees of a large corporation.\n",
    " * **Internet Governance**. Email domains associated with an Internet Governance body.\n",
    " * **Academia**. Email domains associated with an university, research lab, or professional research organization."
   ]
  },
  {
   "cell_type": "code",
   "execution_count": 3,
   "id": "experimental-shuttle",
   "metadata": {},
   "outputs": [],
   "source": [
    "domain_categories = {\n",
    "    \"generic-host\" : [\n",
    "        \"gmail.com\",\n",
    "        \"hotmail.com\",\n",
    "        \"gmx.de\",\n",
    "        \"gmx.net\",\n",
    "        \"gmx.at\",\n",
    "        \"earthlink.net\",\n",
    "        \"comcast.net\",\n",
    "        \"yahoo.com\",\n",
    "        \"email.com\"\n",
    "    ],\n",
    "    \"personal\" : [\n",
    "        \"mnot.net\",\n",
    "        \"henriknordstrom.net\",\n",
    "        \"adambarth.com\",\n",
    "        \"brianrosen.net\",\n",
    "        \"taugh.com\",\n",
    "        \"csperkins.org\",\n",
    "        \"sandelman.ca\",\n",
    "        \"lowentropy.net\"\n",
    "    ],\n",
    "    #\"ietf-admin\" : [\"ietf.org\"],\n",
    "    \"companies\" : [\n",
    "        \"apple.com\",\n",
    "        \"cisco.com\",\n",
    "        \"chromium.org\",\n",
    "        \"microsoft.com\",\n",
    "        \"oracle.com\",\n",
    "        \"google.com\",\n",
    "        \"facebook.com\",\n",
    "        \"intel.com\",\n",
    "        \"verizon.com\",\n",
    "        \"verizon.net\",\n",
    "        \"salesforce.com\",\n",
    "        \"cloudflare.com\",\n",
    "        \"broadcom.com\",\n",
    "        \"juniper.net\",\n",
    "        \"netflix.com\",\n",
    "        \"akamai.com\",\n",
    "        \"us.ibm.com\",\n",
    "        \"qualcomm.com\",\n",
    "        \"siemens.com\",\n",
    "        \"boeing.com\",\n",
    "        \"sandvine.com\",\n",
    "        \"marconi.com\",\n",
    "        \"trilliant.com\",\n",
    "        \"huawei.com\", # chinese\n",
    "        \"zte.com.cn\" # chinese\n",
    "    ],\n",
    "    # from R.N. - state-owned\n",
    "    \"chinese ISPs\" : [\n",
    "        \"chinamobile.com\",\n",
    "        \"chinaunicom.cn\",\n",
    "        \"chinatelecom.cn\",\n",
    "        \"cnnic.cn\" # registry\n",
    "    ],\n",
    "    # from R.N.\n",
    "    \"academia\" : [\n",
    "        \"caict.ac.cn\", # chinese\n",
    "        \"scu.edu.cn\", # chinese\n",
    "        \"tongji.edu.cn\", # chinese\n",
    "        \"mit.edu\",\n",
    "        \"ieee.org\",\n",
    "        \"acm.org\",\n",
    "        \"berkeley.edu\",\n",
    "        \"harvard.edu\",\n",
    "        \"lbl.gov\"\n",
    "    ],\n",
    "    \"internet-governance\" : [\n",
    "        \"isoc.org\",\n",
    "        \"icann.org\",\n",
    "        \"amsl.com\",\n",
    "        \"iana.org\",\n",
    "        \"tools.ietf.org\",\n",
    "        \"w3.org\"\n",
    "    ]\n",
    "}"
   ]
  },
  {
   "cell_type": "markdown",
   "id": "great-clarity",
   "metadata": {},
   "source": [
    "# Working with the data\n",
    "\n",
    "## Load IETF archive data\n",
    "\n",
    "We start by loading the IETF archive data."
   ]
  },
  {
   "cell_type": "code",
   "execution_count": 4,
   "id": "applicable-space",
   "metadata": {},
   "outputs": [],
   "source": [
    "number = r\"^[0-9]\""
   ]
  },
  {
   "cell_type": "code",
   "execution_count": 5,
   "id": "changing-fellow",
   "metadata": {},
   "outputs": [
    {
     "name": "stdout",
     "output_type": "stream",
     "text": [
      "carddav: 'Archive after initial processing is empty. Was data collected properly?'\n",
      "CCAMP: 'Archive after initial processing is empty. Was data collected properly?'\n",
      "dea-dir: 'Archive after initial processing is empty. Was data collected properly?'\n",
      "fyiup: 'Archive after initial processing is empty. Was data collected properly?'\n",
      "enroll: 'Archive after initial processing is empty. Was data collected properly?'\n",
      "aulli: 'Archive after initial processing is empty. Was data collected properly?'\n",
      "dlswmib: 'Archive after initial processing is empty. Was data collected properly?'\n",
      "deltav: 'Archive after initial processing is empty. Was data collected properly?'\n",
      "dasl: 'Archive after initial processing is empty. Was data collected properly?'\n",
      "smime: Error tokenizing data. C error: Buffer overflow caught - possible malformed input file.\n",
      "\n",
      "email-notifications: 'Archive after initial processing is empty. Was data collected properly?'\n",
      "dns-security: 'Archive after initial processing is empty. Was data collected properly?'\n"
     ]
    }
   ],
   "source": [
    "arxs = {}\n",
    "\n",
    "for file in os.listdir(CONFIG.mail_path):\n",
    "    if file.endswith(\".csv\") and not re.match(number, file):\n",
    "        name = file[:-4]\n",
    "        try:\n",
    "            arxs[name] = Archive(name)\n",
    "        except Exception as e:\n",
    "            print(name + \": \" + str(e))"
   ]
  },
  {
   "cell_type": "code",
   "execution_count": 6,
   "id": "stock-motor",
   "metadata": {},
   "outputs": [
    {
     "name": "stdout",
     "output_type": "stream",
     "text": [
      "Total number of Archives: 251\n"
     ]
    }
   ],
   "source": [
    "print(\"Total number of Archives: \" + str(len(arxs)))"
   ]
  },
  {
   "cell_type": "markdown",
   "id": "covered-consent",
   "metadata": {},
   "source": [
    "## Combine email data\n",
    "\n",
    "Collect information about the senders from each mailing list."
   ]
  },
  {
   "cell_type": "code",
   "execution_count": 7,
   "id": "separate-ensemble",
   "metadata": {},
   "outputs": [],
   "source": [
    "def senders(arx):\n",
    "    emails = arx.data['From'].apply(domain.extract_email)\n",
    "    domains = arx.data['From'].apply(domain.extract_domain)\n",
    "    froms = pd.concat([arx.data['From'], emails, domains], axis=1, keys=['From','email','domain'])\n",
    "    \n",
    "    return froms"
   ]
  },
  {
   "cell_type": "code",
   "execution_count": 8,
   "id": "welcome-chance",
   "metadata": {},
   "outputs": [],
   "source": [
    "wg_senders = {wg : senders(arxs[wg]) for wg in arxs}"
   ]
  },
  {
   "cell_type": "markdown",
   "id": "impressed-nigeria",
   "metadata": {},
   "source": [
    "## Explore the data\n",
    "\n",
    "We are going to start with using statistics from the global corpus of data. To combine the data from each working group into one DataFrame."
   ]
  },
  {
   "cell_type": "code",
   "execution_count": 11,
   "id": "continuing-ebony",
   "metadata": {},
   "outputs": [],
   "source": [
    "def add_wg_row(df, wg):\n",
    "    df2 = df.copy()\n",
    "    df2['wg'] = wg\n",
    "    \n",
    "    return df2\n",
    "\n",
    "all_senders = pd.concat([add_wg_row(wg_senders[wg], wg) for wg in wg_senders])"
   ]
  },
  {
   "cell_type": "markdown",
   "id": "sitting-teach",
   "metadata": {},
   "source": [
    "Each email domain participates in some number of working groups. It also contains some number of unique email addresses. Just to get a sense of the variety, we will look at and compare these two distributions."
   ]
  },
  {
   "cell_type": "code",
   "execution_count": 12,
   "id": "developmental-pollution",
   "metadata": {},
   "outputs": [
    {
     "data": {
      "text/plain": [
       "<AxesSubplot:xlabel='domain'>"
      ]
     },
     "execution_count": 12,
     "metadata": {},
     "output_type": "execute_result"
    },
    {
     "data": {
      "image/png": "[encoded data removed]",
      "text/plain": [
       "<Figure size 432x288 with 1 Axes>"
      ]
     },
     "metadata": {
      "needs_background": "light"
     },
     "output_type": "display_data"
    }
   ],
   "source": [
    "all_senders.groupby('domain').size().sort_values(ascending=False).plot(loglog = True)"
   ]
  },
  {
   "cell_type": "code",
   "execution_count": 13,
   "id": "assisted-apartment",
   "metadata": {},
   "outputs": [
    {
     "name": "stdout",
     "output_type": "stream",
     "text": [
      "2.2091269006462735\n",
      "323.0\n",
      "-0.303334569766017 0.7616349035870448\n"
     ]
    },
    {
     "name": "stderr",
     "output_type": "stream",
     "text": [
      "Calculating best minimal value for power law fit\n",
      "/home/sb/anaconda3/envs/bigbang/lib/python3.7/site-packages/powerlaw.py:700: RuntimeWarning: invalid value encountered in true_divide\n",
      "  (Theoretical_CDF * (1 - Theoretical_CDF))\n"
     ]
    }
   ],
   "source": [
    "data = all_senders.groupby('domain').size().values # data can be list or numpy array\n",
    "results = powerlaw.Fit(data)\n",
    "print(results.power_law.alpha)\n",
    "print(results.power_law.xmin)\n",
    "\n",
    "R, p = results.distribution_compare('power_law', 'lognormal', normalized_ratio=True)\n",
    "print(R, p)"
   ]
  },
  {
   "cell_type": "code",
   "execution_count": 14,
   "id": "exterior-quality",
   "metadata": {},
   "outputs": [
    {
     "data": {
      "text/plain": [
       "<AxesSubplot:xlabel='wg'>"
      ]
     },
     "execution_count": 14,
     "metadata": {},
     "output_type": "execute_result"
    },
    {
     "data": {
      "image/png": "[encoded data removed]",
      "text/plain": [
       "<Figure size 432x288 with 1 Axes>"
      ]
     },
     "metadata": {
      "needs_background": "light"
     },
     "output_type": "display_data"
    }
   ],
   "source": [
    "all_senders.groupby('wg').size().sort_values(ascending=False).plot(loglog = True)"
   ]
  },
  {
   "cell_type": "code",
   "execution_count": 15,
   "id": "mediterranean-pepper",
   "metadata": {},
   "outputs": [
    {
     "name": "stdout",
     "output_type": "stream",
     "text": [
      "2.0889400718891245\n",
      "2114.0\n",
      "-1.1371237921439543 0.25548653911755936\n"
     ]
    },
    {
     "name": "stderr",
     "output_type": "stream",
     "text": [
      "Calculating best minimal value for power law fit\n",
      "/home/sb/anaconda3/envs/bigbang/lib/python3.7/site-packages/powerlaw.py:700: RuntimeWarning: invalid value encountered in true_divide\n",
      "  (Theoretical_CDF * (1 - Theoretical_CDF))\n"
     ]
    }
   ],
   "source": [
    "data = all_senders.groupby('wg').size().values # data can be list or numpy array\n",
    "results = powerlaw.Fit(data)\n",
    "print(results.power_law.alpha)\n",
    "print(results.power_law.xmin)\n",
    "\n",
    "R, p = results.distribution_compare('power_law', 'lognormal', normalized_ratio=True)\n",
    "print(R, p)"
   ]
  },
  {
   "cell_type": "code",
   "execution_count": 16,
   "id": "fitting-rapid",
   "metadata": {},
   "outputs": [
    {
     "data": {
      "image/png": "[encoded data removed]",
      "text/plain": [
       "<Figure size 432x288 with 1 Axes>"
      ]
     },
     "metadata": {
      "needs_background": "light"
     },
     "output_type": "display_data"
    }
   ],
   "source": [
    "x = all_senders.groupby('domain')['email'].unique().apply(len)\n",
    "y = all_senders.groupby('domain')['wg'].unique().apply(len)\n",
    "\n",
    "import matplotlib.pyplot as plt\n",
    "\n",
    "fig = plt.figure()\n",
    "ax = plt.gca()\n",
    "ax.scatter(x, y, c='blue', alpha=0.05, edgecolors='none')\n",
    "ax.set_xlabel('unique emails')\n",
    "ax.set_xlabel('unique wgs')\n",
    "ax.set_yscale('log')\n",
    "ax.set_xscale('log')"
   ]
  },
  {
   "cell_type": "markdown",
   "id": "representative-bumper",
   "metadata": {},
   "source": [
    "## Compute more domain statistics\n",
    "\n",
    "We will now compute more summary statistics for each domain."
   ]
  },
  {
   "cell_type": "code",
   "execution_count": 17,
   "id": "upper-realtor",
   "metadata": {},
   "outputs": [
    {
     "data": {
      "text/plain": [
       "domain\n",
       "------------.dsi.unifi.it.cnri.reston.va.us    0.693147\n",
       "0-0.com                                        1.386294\n",
       "004.com                                        0.693147\n",
       "007designs.com                                 0.693147\n",
       "007names.com                                   0.693147\n",
       "                                                 ...   \n",
       "zx2c4.com                                      0.693147\n",
       "zxascom.com                                    0.693147\n",
       "zxsfw.com                                      0.693147\n",
       "zytor.com                                      1.098612\n",
       "zytrax.com                                     0.693147\n",
       "Name: wg, Length: 24928, dtype: float64"
      ]
     },
     "execution_count": 17,
     "metadata": {},
     "output_type": "execute_result"
    }
   ],
   "source": [
    "domain_unique_emails = all_senders.groupby('domain')['email'].apply(lambda g : np.log1p(g.unique().size))\n",
    "domain_unique_wgs = all_senders.groupby('domain')['wg'].apply(lambda g : np.log1p(g.unique().size))\n",
    "domain_unique_wgs"
   ]
  },
  {
   "cell_type": "code",
   "execution_count": 18,
   "id": "vocational-soviet",
   "metadata": {},
   "outputs": [],
   "source": [
    "domain_means = all_senders.groupby('domain')['email'].apply(lambda g : g.value_counts().mean())\n",
    "domain_stds = all_senders.groupby('domain')['email'].apply(lambda g : g.value_counts().std())\n",
    "domain_means_log = np.log1p(domain_means)\n",
    "domain_medians = all_senders.groupby('domain')['email'].apply(lambda g : g.value_counts().median())\n",
    "domain_medians_log = np.log1p(domain_medians)\n",
    "domain_max = all_senders.groupby('domain')['email'].apply(lambda g : g.value_counts().max())\n",
    "domain_max_log = np.log1p(domain_max)"
   ]
  },
  {
   "cell_type": "code",
   "execution_count": 19,
   "id": "hearing-static",
   "metadata": {},
   "outputs": [],
   "source": [
    "df = pd.DataFrame(data = {\n",
    "    'n_e' : domain_unique_emails, \n",
    "    'n_w' : domain_unique_wgs,\n",
    "    'log_mean' : domain_means_log,\n",
    "    'log_median' : domain_medians_log, \n",
    "    'log_max' : domain_max_log,\n",
    "    'nstd' : domain_stds.fillna(0) / domain_means\n",
    "})"
   ]
  },
  {
   "cell_type": "markdown",
   "id": "colored-auction",
   "metadata": {},
   "source": [
    "And add the category labels if known."
   ]
  },
  {
   "cell_type": "code",
   "execution_count": 20,
   "id": "considered-murray",
   "metadata": {},
   "outputs": [],
   "source": [
    "def categorize_domain(d):\n",
    "    category = [dc for dc in domain_categories if d[0] in domain_categories[dc]]\n",
    "    \n",
    "    if len(category) > 0:\n",
    "        return category[0]\n",
    "    else:\n",
    "        return None\n",
    "\n",
    "labels = pd.Series(data = df.index, index = df.index).apply(categorize_domain)\n",
    "\n",
    "df['labels'] = labels"
   ]
  },
  {
   "cell_type": "markdown",
   "id": "anonymous-mailing",
   "metadata": {},
   "source": [
    "A little data cleaning...."
   ]
  },
  {
   "cell_type": "code",
   "execution_count": 22,
   "id": "spatial-blair",
   "metadata": {},
   "outputs": [],
   "source": [
    "df = df[df['log_mean'] > 0.0]"
   ]
  },
  {
   "cell_type": "code",
   "execution_count": 23,
   "id": "structured-thailand",
   "metadata": {},
   "outputs": [
    {
     "data": {
      "text/html": [
       "<div>\n",
       "<style scoped>\n",
       "    .dataframe tbody tr th:only-of-type {\n",
       "        vertical-align: middle;\n",
       "    }\n",
       "\n",
       "    .dataframe tbody tr th {\n",
       "        vertical-align: top;\n",
       "    }\n",
       "\n",
       "    .dataframe thead th {\n",
       "        text-align: right;\n",
       "    }\n",
       "</style>\n",
       "<table border=\"1\" class=\"dataframe\">\n",
       "  <thead>\n",
       "    <tr style=\"text-align: right;\">\n",
       "      <th></th>\n",
       "      <th>n_e</th>\n",
       "      <th>n_w</th>\n",
       "      <th>log_mean</th>\n",
       "      <th>log_median</th>\n",
       "      <th>log_max</th>\n",
       "      <th>nstd</th>\n",
       "      <th>labels</th>\n",
       "    </tr>\n",
       "    <tr>\n",
       "      <th>domain</th>\n",
       "      <th></th>\n",
       "      <th></th>\n",
       "      <th></th>\n",
       "      <th></th>\n",
       "      <th></th>\n",
       "      <th></th>\n",
       "      <th></th>\n",
       "    </tr>\n",
       "  </thead>\n",
       "  <tbody>\n",
       "    <tr>\n",
       "      <th>------------.dsi.unifi.it.cnri.reston.va.us</th>\n",
       "      <td>0.693147</td>\n",
       "      <td>0.693147</td>\n",
       "      <td>0.693147</td>\n",
       "      <td>0.693147</td>\n",
       "      <td>0.693147</td>\n",
       "      <td>0.0</td>\n",
       "      <td>None</td>\n",
       "    </tr>\n",
       "    <tr>\n",
       "      <th>0-0.com</th>\n",
       "      <td>0.693147</td>\n",
       "      <td>1.386294</td>\n",
       "      <td>1.945910</td>\n",
       "      <td>1.945910</td>\n",
       "      <td>1.945910</td>\n",
       "      <td>0.0</td>\n",
       "      <td>None</td>\n",
       "    </tr>\n",
       "    <tr>\n",
       "      <th>004.com</th>\n",
       "      <td>0.693147</td>\n",
       "      <td>0.693147</td>\n",
       "      <td>0.693147</td>\n",
       "      <td>0.693147</td>\n",
       "      <td>0.693147</td>\n",
       "      <td>0.0</td>\n",
       "      <td>None</td>\n",
       "    </tr>\n",
       "    <tr>\n",
       "      <th>007designs.com</th>\n",
       "      <td>0.693147</td>\n",
       "      <td>0.693147</td>\n",
       "      <td>0.693147</td>\n",
       "      <td>0.693147</td>\n",
       "      <td>0.693147</td>\n",
       "      <td>0.0</td>\n",
       "      <td>None</td>\n",
       "    </tr>\n",
       "    <tr>\n",
       "      <th>007names.com</th>\n",
       "      <td>0.693147</td>\n",
       "      <td>0.693147</td>\n",
       "      <td>0.693147</td>\n",
       "      <td>0.693147</td>\n",
       "      <td>0.693147</td>\n",
       "      <td>0.0</td>\n",
       "      <td>None</td>\n",
       "    </tr>\n",
       "  </tbody>\n",
       "</table>\n",
       "</div>"
      ],
      "text/plain": [
       "                                                  n_e       n_w  log_mean  \\\n",
       "domain                                                                      \n",
       "------------.dsi.unifi.it.cnri.reston.va.us  0.693147  0.693147  0.693147   \n",
       "0-0.com                                      0.693147  1.386294  1.945910   \n",
       "004.com                                      0.693147  0.693147  0.693147   \n",
       "007designs.com                               0.693147  0.693147  0.693147   \n",
       "007names.com                                 0.693147  0.693147  0.693147   \n",
       "\n",
       "                                             log_median   log_max  nstd labels  \n",
       "domain                                                                          \n",
       "------------.dsi.unifi.it.cnri.reston.va.us    0.693147  0.693147   0.0   None  \n",
       "0-0.com                                        1.945910  1.945910   0.0   None  \n",
       "004.com                                        0.693147  0.693147   0.0   None  \n",
       "007designs.com                                 0.693147  0.693147   0.0   None  \n",
       "007names.com                                   0.693147  0.693147   0.0   None  "
      ]
     },
     "execution_count": 23,
     "metadata": {},
     "output_type": "execute_result"
    }
   ],
   "source": [
    "df.head()"
   ]
  },
  {
   "cell_type": "code",
   "execution_count": 30,
   "id": "suspended-genesis",
   "metadata": {},
   "outputs": [
    {
     "name": "stdout",
     "output_type": "stream",
     "text": [
      "generic-host\n",
      "personal\n",
      "companies\n",
      "chinese ISPs\n",
      "academia\n",
      "internet-governance\n"
     ]
    },
    {
     "data": {
      "text/plain": [
       "<matplotlib.legend.Legend at 0x7fabf3f3b310>"
      ]
     },
     "execution_count": 30,
     "metadata": {},
     "output_type": "execute_result"
    },
    {
     "data": {
      "image/png": "[encoded data removed]",
      "text/plain": [
       "<Figure size 576x576 with 1 Axes>"
      ]
     },
     "metadata": {
      "needs_background": "light"
     },
     "output_type": "display_data"
    }
   ],
   "source": [
    "fig = plt.figure(figsize=(8,8))\n",
    "ax = plt.gca()\n",
    "ax.plot(df['log_median'], df['nstd'], 'o', c='yellow', alpha=0.02)\n",
    "\n",
    "colors = ['red', 'magenta', 'green', 'blue', 'black', 'cyan', 'orange']\n",
    "\n",
    "for i, group in enumerate(domain_categories):\n",
    "    print(group)\n",
    "    gdf = df.loc[domain_categories[group], :]\n",
    "    ax.plot(gdf['log_median'], gdf['nstd'], '+', c=colors[i], alpha=0.5, label = group)\n",
    "\n",
    "ax.set_xlabel('Log Median')\n",
    "ax.set_ylabel('Normalized Standard Deviation')\n",
    "ax.set_yscale('log')\n",
    "ax.set_xscale('log')\n",
    "\n",
    "ax.set_title('Statistics of Email Domain Distributions')\n",
    "\n",
    "ax.set_ylim([0.1,10])\n",
    "\n",
    "ax.legend()\n",
    "\n"
   ]
  },
  {
   "cell_type": "markdown",
   "id": "bibliographic-content",
   "metadata": {},
   "source": [
    "There is some evidence to say that different categories of email domains are distinguishable based on properties of their email distributions. \n",
    "\n",
    "A next step is to build and test and automated classifier and test the results."
   ]
  },
  {
   "cell_type": "code",
   "execution_count": null,
   "id": "royal-reasoning",
   "metadata": {},
   "outputs": [],
   "source": []
  }
 ],
 "metadata": {
  "kernelspec": {
   "display_name": "Python [conda env:bigbang] *",
   "language": "python",
   "name": "conda-env-bigbang-py"
  },
  "language_info": {
   "codemirror_mode": {
    "name": "ipython",
    "version": 3
   },
   "file_extension": ".py",
   "mimetype": "text/x-python",
   "name": "python",
   "nbconvert_exporter": "python",
   "pygments_lexer": "ipython3",
   "version": "3.7.7"
  },
  "latex_envs": {
   "LaTeX_envs_menu_present": true,
   "autoclose": false,
   "autocomplete": true,
   "bibliofile": "biblio.bib",
   "cite_by": "apalike",
   "current_citInitial": 1,
   "eqLabelWithNumbers": true,
   "eqNumInitial": 1,
   "hotkeys": {
    "equation": "Ctrl-E",
    "itemize": "Ctrl-I"
   },
   "labels_anchors": false,
   "latex_user_defs": false,
   "report_style_numbering": false,
   "user_envs_cfg": false
  },
  "toc": {
   "base_numbering": 1,
   "nav_menu": {},
   "number_sections": true,
   "sideBar": true,
   "skip_h1_title": false,
   "title_cell": "Table of Contents",
   "title_sidebar": "Contents",
   "toc_cell": false,
   "toc_position": {},
   "toc_section_display": true,
   "toc_window_display": false
  }
 },
 "nbformat": 4,
 "nbformat_minor": 5
}
