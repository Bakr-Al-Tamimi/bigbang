{
 "cells": [
  {
   "cell_type": "markdown",
   "metadata": {},
   "source": [
    "<b> This notebook takes a list of users and outputs the most recurring words per each user</b>"
   ]
  },
  {
   "cell_type": "code",
   "execution_count": 1,
   "metadata": {
    "collapsed": false
   },
   "outputs": [],
   "source": [
    "from bigbang.archive import load as load_archive\n",
    "from nltk.corpus import stopwords\n",
    "from nltk import tokenize\n",
    "from collections import defaultdict\n",
    "import csv\n",
    "from pandas import DataFrame as df\n",
    "from nltk.stem.lancaster import LancasterStemmer\n",
    "import re\n",
    "st = LancasterStemmer()"
   ]
  },
  {
   "cell_type": "code",
   "execution_count": 2,
   "metadata": {
    "collapsed": false
   },
   "outputs": [
    {
     "name": "stderr",
     "output_type": "stream",
     "text": [
      "c:\\users\\davide\\bigbang\\bigbang\\archive.py:73: FutureWarning: sort(columns=....) is deprecated, use sort_values(by=.....)\n",
      "  self.data.sort(columns='Date', inplace=True)\n"
     ]
    }
   ],
   "source": [
    "#insert ONE url of mailing list\n",
    "url = 'http://mm.icann.org/pipermail/wp4/'\n",
    "\n",
    "#specify if you want to have words stemmed (no prefixes, pluralrs, etc.) or literal \n",
    "stem = False\n",
    "\n",
    "\n",
    "try:\n",
    "    arch_path = '../archives/'+url[:-1].replace('://','_/')+'.csv'\n",
    "    archive = load_archive(arch_path).data\n",
    "except:\n",
    "    arch_path = '../archives/'+url[:-1].replace('//','/')+'.csv'\n",
    "    archive = load_archive(arch_path).data"
   ]
  },
  {
   "cell_type": "code",
   "execution_count": 11,
   "metadata": {
    "collapsed": false
   },
   "outputs": [],
   "source": [
    "def count_words(texts):\n",
    "    wordcount={}\n",
    "    for text in texts:\n",
    "            w = text.replace(\"'\", \"\")\n",
    "            k = re.sub(r'[^\\w]', ' ', w)\n",
    "            t = tokenize.word_tokenize(k)\n",
    "            for g in t:\n",
    "                try:\n",
    "                    if stem: word = st.stem(g)\n",
    "                    else: word = g\n",
    "                except:\n",
    "                    print g\n",
    "                    pass\n",
    "                if word in stopwords.words('english'):\n",
    "                    continue\n",
    "                if word not in wordcount:\n",
    "                    wordcount[word] = [1]\n",
    "                else:\n",
    "                    wordcount[word][0] += 1\n",
    "    return wordcount"
   ]
  },
  {
   "cell_type": "code",
   "execution_count": 15,
   "metadata": {
    "collapsed": false
   },
   "outputs": [],
   "source": [
    "#insert the name of the file with users (should be in the bigbang directory)\n",
    "file_name = 'WP4-top50senders.csv'\n",
    "users_f = open('../'+file_name, \"rb\")\n",
    "users_r = csv.reader(users_f, delimiter = ',')\n",
    "user_wordcount = defaultdict(dict)\n",
    "for user in users_r:\n",
    "    user_wordcount[user[0]]= count_words(archive[archive[\"From\"] == user[0]][\"Body\"])\n",
    "\n",
    "        \n",
    "    \n",
    "    \n",
    "\n"
   ]
  },
  {
   "cell_type": "code",
   "execution_count": 23,
   "metadata": {
    "collapsed": false
   },
   "outputs": [
    {
     "name": "stdout",
     "output_type": "stream",
     "text": [
      "File exported!\n"
     ]
    }
   ],
   "source": [
    "#insert the number of top words you want to export\n",
    "n_top_words = 10\n",
    "\n",
    "#edit the file name in case...\n",
    "users_topwords_f = open('../users_topwords.csv', \"wb\")\n",
    "users_w = csv.writer(users_topwords_f)\n",
    "\n",
    "\n",
    "for user, wordcount in user_wordcount.iteritems():    \n",
    "    for word, count in sorted(wordcount.iteritems(), reverse = True, key = lambda (k,v):(v,k))[:n_top_words]:\n",
    "        users_w.writerow([user]+[word]+[count[0]])\n",
    "users_topwords_f.close()\n",
    "print 'File exported!'"
   ]
  },
  {
   "cell_type": "code",
   "execution_count": null,
   "metadata": {
    "collapsed": true
   },
   "outputs": [],
   "source": []
  }
 ],
 "metadata": {
  "kernelspec": {
   "display_name": "Python 2",
   "language": "python",
   "name": "python2"
  },
  "language_info": {
   "codemirror_mode": {
    "name": "ipython",
    "version": 2
   },
   "file_extension": ".py",
   "mimetype": "text/x-python",
   "name": "python",
   "nbconvert_exporter": "python",
   "pygments_lexer": "ipython2",
   "version": "2.7.11"
  }
 },
 "nbformat": 4,
 "nbformat_minor": 0
}
