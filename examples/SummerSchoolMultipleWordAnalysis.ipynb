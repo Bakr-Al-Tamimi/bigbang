{
 "cells": [
  {
   "cell_type": "markdown",
   "metadata": {},
   "source": [
    "## This note book gives the trend of multiple words in multiple mailing lists\n",
    "\n",
    "What it does:\n",
    "-it computes and plot word counts over time, on aggregated mailing lists' data.\n",
    "-it exports emails that contains selected words \n",
    "\n",
    "Parameters to set options:\n",
    "-it can track one or more words, according to the number of words set in the variable 'checkwords' \n",
    "-it can look in one or more mailing lists, according to how many urls are set; word counts are aggregated across mls\n",
    "-it can look at literal words or at stemmed words, according to the 'stem' parameter\n",
    "\n",
    "Useful extensions:\n",
    "-export dictionary with wordcount trends on individual mailing lists\n",
    "-look at compund words (e.g. 'human rights')\n",
    "-give option to SUM word counts instead of treating words separately\n",
    "-give possibility to normalize word counts"
   ]
  },
  {
   "cell_type": "code",
   "execution_count": 1,
   "metadata": {
    "collapsed": false
   },
   "outputs": [
    {
     "name": "stderr",
     "output_type": "stream",
     "text": [
      "/home/sb/anaconda/envs/nllz/lib/python2.7/site-packages/matplotlib/font_manager.py:273: UserWarning: Matplotlib is building the font cache using fc-list. This may take a moment.\n",
      "  warnings.warn('Matplotlib is building the font cache using fc-list. This may take a moment.')\n"
     ]
    }
   ],
   "source": [
    "%matplotlib inline"
   ]
  },
  {
   "cell_type": "code",
   "execution_count": 2,
   "metadata": {
    "collapsed": false
   },
   "outputs": [],
   "source": [
    "from bigbang.archive import Archive\n",
    "import bigbang.parse as parse\n",
    "import bigbang.graph as graph\n",
    "import bigbang.mailman as mailman\n",
    "import bigbang.process as process\n",
    "import networkx as nx\n",
    "import matplotlib.pyplot as plt\n",
    "import pandas as pd\n",
    "from pprint import pprint as pp\n",
    "import pytz\n",
    "import numpy as np\n",
    "import math\n",
    "import nltk\n",
    "from itertools import repeat\n",
    "from nltk.stem.lancaster import LancasterStemmer\n",
    "st = LancasterStemmer()\n",
    "from nltk.corpus import stopwords\n",
    "import re\n",
    "import csv"
   ]
  },
  {
   "cell_type": "code",
   "execution_count": 3,
   "metadata": {
    "collapsed": false
   },
   "outputs": [
    {
     "name": "stderr",
     "output_type": "stream",
     "text": [
      "/home/sb/projects/nllz-bigbang/bigbang/bigbang/archive.py:73: FutureWarning: sort(columns=....) is deprecated, use sort_values(by=.....)\n",
      "  self.data.sort(columns='Date', inplace=True)\n"
     ]
    }
   ],
   "source": [
    "#insert a list of the urls of downloaded mailing lists that you want to include in the analysis. \n",
    "#data will be merged: multiple mailing lists are treated as a unique corpus\n",
    "#e.g. urls  = [\"https://mm.icann.org/pipermail/cc-humanrights/\", \n",
    "#              \"https://mm.icann.org/pipermail/euro-board/\"]\n",
    "\n",
    "from bigbang.archive import load as load_archive\n",
    "\n",
    "paths = [\"../archives/http:/mm.icann.org/pipermail/cc-humanrights.csv\", \n",
    "        \"../archives/http:/mm.icann.org/pipermail/alac.csv\"]\n",
    "\n",
    "\n",
    "#archives= [Archive(url,archive_dir=\"../archives\") for url in urls]\n",
    "\n",
    "archives = [load_archive(path) for path in paths]"
   ]
  },
  {
   "cell_type": "code",
   "execution_count": 4,
   "metadata": {
    "collapsed": false
   },
   "outputs": [],
   "source": [
    "#insert a list of *single* words to be tracked e.g. checkwords = ['rights', 'economy', 'human']\n",
    "checkwords = [\"internet\",\"right\",\"human\"]\n",
    "\n",
    "\n",
    "\n",
    "#to stem or not to stem? \n",
    "#if stem is set to True, then checkwords should be stemmed words (no plurals, no suffixes, etc.)\n",
    "#if stem is set to False, then checkwords are searched for their literal spelling\n",
    "stem = False\n",
    "\n",
    "\n",
    "#extension: filter by date?"
   ]
  },
  {
   "cell_type": "code",
   "execution_count": 5,
   "metadata": {
    "collapsed": false,
    "scrolled": true
   },
   "outputs": [],
   "source": [
    "df = archives[0].data.copy()\n",
    "\n",
    "def count_words(text,checkwords):\n",
    "    w = text.replace(\"'\", \"\")\n",
    "    k = re.sub(r'[^\\w]', ' ', w)\n",
    "    k = k.lower()\n",
    "    \n",
    "    t = nltk.tokenize.word_tokenize(k)\n",
    "\n",
    "    words_count = {}\n",
    "    \n",
    "    for checkword in checkwords:\n",
    "\n",
    "        words_count[checkword] = 0\n",
    "        for g in t:\n",
    "            if stem: \n",
    "                try:\n",
    "                    word = st.stem(g)\n",
    "                except:\n",
    "                    print \"Error while stemming the word \"+g\n",
    "                    pass\n",
    "            else:\n",
    "                word = g\n",
    "        \n",
    "            if word == checkword:\n",
    "                words_count[checkword] += 1\n",
    "\n",
    "\n",
    "    return words_count\n",
    "\n",
    "df['WordCount'] = df['Body'].apply(lambda x: count_words(x,checkwords))\n",
    "\n",
    "#df['WordCount']"
   ]
  },
  {
   "cell_type": "code",
   "execution_count": 6,
   "metadata": {
    "collapsed": false
   },
   "outputs": [
    {
     "name": "stdout",
     "output_type": "stream",
     "text": [
      "Saving data for checkword internet...\n",
      "Saving data for checkword right...\n",
      "Saving data for checkword human...\n"
     ]
    }
   ],
   "source": [
    "#save each email in a file based on which checkword it contains. good for doing some qualitative analysis\n",
    "\n",
    "#set the path where the data are to be saved\n",
    "path = '../'\n",
    "\n",
    "\n",
    "for word in checkwords:\n",
    "    print \"Saving data for checkword \"+word+\"...\"\n",
    "    file_f = open(path+word+'.csv', \"wb\")\n",
    "    file_w = csv.writer(file_f)\n",
    "    for row in df.iterrows():\n",
    "        if row[1][\"WordCount\"][word] != 0:\n",
    "            file_w.writerow(row[1])\n",
    "    file_f.close()"
   ]
  },
  {
   "cell_type": "code",
   "execution_count": 7,
   "metadata": {
    "collapsed": false
   },
   "outputs": [],
   "source": [
    "#create list of month based on time distribution of emails\n",
    "start_date = df.iloc[0][\"Date\"]\n",
    "end_date = df.iloc[len(df.index)-1][\"Date\"]\n",
    "total_month = (end_date.year - start_date.year)*12 + (end_date.month-start_date.month+1)\n",
    "k_month = []\n",
    "temp_year = start_date.year\n",
    "temp_month = start_date.month\n",
    "for i in range(total_month):\n",
    "    k_month.append((temp_year, temp_month))\n",
    "    if temp_month == 12:\n",
    "        temp_year += 1\n",
    "        temp_month = 0\n",
    "    temp_month += 1"
   ]
  },
  {
   "cell_type": "code",
   "execution_count": 8,
   "metadata": {
    "collapsed": false
   },
   "outputs": [],
   "source": [
    "#create dictionary of words and occurrences by month\n",
    "word_time_dict = {}\n",
    "for word in checkwords:\n",
    "    word_time_dict[word] = {}\n",
    "for row in df.iterrows():\n",
    "    for word in checkwords:\n",
    "        if (row[1]['Date'].year, row[1]['Date'].month) not in word_time_dict[word]:\n",
    "            word_time_dict[word][(row[1]['Date'].year, row[1]['Date'].month)] = row[1][\"WordCount\"][word]\n",
    "        else:\n",
    "            word_time_dict[word][(row[1]['Date'].year, row[1]['Date'].month)] += row[1][\"WordCount\"][word]\n",
    "word_by_month = {}\n",
    "for word in checkwords:\n",
    "    word_by_month[word] = []\n",
    "for item in k_month:\n",
    "    for word in checkwords:\n",
    "        if item in word_time_dict[word]:\n",
    "            word_by_month[word].append(word_time_dict[word][item])\n",
    "        else:\n",
    "            word_by_month[word].append(0)\n",
    "\n"
   ]
  },
  {
   "cell_type": "code",
   "execution_count": 9,
   "metadata": {
    "collapsed": false
   },
   "outputs": [
    {
     "data": {
      "text/plain": [
       "'[15,14,3,52,63,78,76,1,50,93,10,9,21,29,39,22,20,38,22], x, [89,3,4,11,23,7,12,1,10,5,2,0,6,4,24,4,4,43,187], x, [229,277,92,182,672,162,243,14,452,239,70,140,125,192,541,232,360,373,75]'"
      ]
     },
     "execution_count": 9,
     "metadata": {},
     "output_type": "execute_result"
    }
   ],
   "source": [
    "x = range(1,total_month+1)\n",
    "str_to_eval = \"\"\n",
    "for word in checkwords:\n",
    "    str_to_eval += \"[\"+\",\".join(str(y) for y in word_by_month[word])+\"], x, \"\n",
    "str_to_eval = str_to_eval[:-5]\n",
    "\n",
    "str_to_eval"
   ]
  },
  {
   "cell_type": "code",
   "execution_count": 10,
   "metadata": {
    "collapsed": false
   },
   "outputs": [
    {
     "name": "stderr",
     "output_type": "stream",
     "text": [
      "/home/sb/anaconda/envs/nllz/lib/python2.7/site-packages/matplotlib/axes/_axes.py:519: UserWarning: No labelled objects found. Use label='...' kwarg on individual plots.\n",
      "  warnings.warn(\"No labelled objects found. \"\n"
     ]
    },
    {
     "data": {
      "image/png": "[encoded data removed]",
      "text/plain": [
       "<matplotlib.figure.Figure at 0x7fa34acfa690>"
      ]
     },
     "metadata": {},
     "output_type": "display_data"
    }
   ],
   "source": [
    "#plot the word trend(s) against months\n",
    "x = range(1,total_month+1)\n",
    "str_to_eval = \"\"\n",
    "for word in checkwords:\n",
    "    str_to_eval += \"[\"+\",\".join(str(y) for y in word_by_month[word])+\"], x, \"\n",
    "str_to_eval = str_to_eval[:-5]\n",
    "eval(\"plt.plot(x,\"+str_to_eval+\")\")\n",
    "plt.xlabel(\"month\")\n",
    "plt.legend()"
   ]
  }
 ],
 "metadata": {
  "kernelspec": {
   "display_name": "Python 2",
   "language": "python",
   "name": "python2"
  },
  "language_info": {
   "codemirror_mode": {
    "name": "ipython",
    "version": 2
   },
   "file_extension": ".py",
   "mimetype": "text/x-python",
   "name": "python",
   "nbconvert_exporter": "python",
   "pygments_lexer": "ipython2",
   "version": "2.7.12"
  }
 },
 "nbformat": 4,
 "nbformat_minor": 0
}
