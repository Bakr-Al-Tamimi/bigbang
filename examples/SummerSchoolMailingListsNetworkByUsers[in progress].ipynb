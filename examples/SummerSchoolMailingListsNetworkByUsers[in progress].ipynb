{
 "cells": [
  {
   "cell_type": "code",
   "execution_count": 1,
   "metadata": {
    "collapsed": true
   },
   "outputs": [],
   "source": [
    "#import many mailing lists\n",
    "#show users overlap between mls: network of mls, links weighted to shared users\n",
    "#extensions: do it filtering for word\n",
    "#extension: network of mls based on shared special words"
   ]
  },
  {
   "cell_type": "code",
   "execution_count": 2,
   "metadata": {
    "collapsed": true
   },
   "outputs": [],
   "source": [
    "%matplotlib inline"
   ]
  },
  {
   "cell_type": "code",
   "execution_count": 2,
   "metadata": {
    "collapsed": false
   },
   "outputs": [],
   "source": [
    "import bigbang.mailman as mailman\n",
    "import bigbang.graph as graph\n",
    "import bigbang.process as process\n",
    "from bigbang.archive import Archive\n",
    "import pandas as pd\n",
    "import networkx as nx\n",
    "from collections import defaultdict\n"
   ]
  },
  {
   "cell_type": "code",
   "execution_count": 1,
   "metadata": {
    "collapsed": false
   },
   "outputs": [
    {
     "ename": "NameError",
     "evalue": "name 'defaultdict' is not defined",
     "output_type": "error",
     "traceback": [
      "\u001b[1;31m---------------------------------------------------------------------------\u001b[0m",
      "\u001b[1;31mNameError\u001b[0m                                 Traceback (most recent call last)",
      "\u001b[1;32m<ipython-input-1-56859b77904f>\u001b[0m in \u001b[0;36m<module>\u001b[1;34m()\u001b[0m\n\u001b[0;32m      9\u001b[0m \u001b[1;33m\u001b[0m\u001b[0m\n\u001b[0;32m     10\u001b[0m \u001b[1;33m\u001b[0m\u001b[0m\n\u001b[1;32m---> 11\u001b[1;33m \u001b[0marchives\u001b[0m \u001b[1;33m=\u001b[0m  \u001b[0mdefaultdict\u001b[0m\u001b[1;33m(\u001b[0m\u001b[0mpd\u001b[0m\u001b[1;33m.\u001b[0m\u001b[0mcore\u001b[0m\u001b[1;33m.\u001b[0m\u001b[0mframe\u001b[0m\u001b[1;33m.\u001b[0m\u001b[0mDataFrame\u001b[0m\u001b[1;33m)\u001b[0m\u001b[1;33m\u001b[0m\u001b[0m\n\u001b[0m\u001b[0;32m     12\u001b[0m \u001b[1;32mfor\u001b[0m \u001b[0murl\u001b[0m \u001b[1;32min\u001b[0m \u001b[0murls\u001b[0m\u001b[1;33m:\u001b[0m\u001b[1;33m\u001b[0m\u001b[0m\n\u001b[0;32m     13\u001b[0m     \u001b[0marchives\u001b[0m\u001b[1;33m[\u001b[0m\u001b[0murl\u001b[0m\u001b[1;33m]\u001b[0m \u001b[1;33m=\u001b[0m \u001b[0mArchive\u001b[0m\u001b[1;33m(\u001b[0m\u001b[0murl\u001b[0m\u001b[1;33m)\u001b[0m\u001b[1;33m\u001b[0m\u001b[0m\n",
      "\u001b[1;31mNameError\u001b[0m: name 'defaultdict' is not defined"
     ]
    }
   ],
   "source": [
    "#:::::::::::::::::::::::::::::::::\n",
    "\n",
    "#insert one or more urls of the mailing lists you want to include in the analysis\n",
    "#if more mailing lists are included, the data are aggregated and treated as a single object of analysis\n",
    "#e.g. urls  = []\n",
    "urls = [\"https://mm.icann.org/pipermail/cc-humanrights/\",\n",
    "        \"https://mm.icann.org/pipermail/wf4/\",\n",
    "        \"https://mm.icann.org/pipermail/euro-board/\"]\n",
    "\n",
    "\n",
    "archives =  defaultdict(pd.core.frame.DataFrame)\n",
    "for url in urls:\n",
    "    archives[url] = Archive(url)"
   ]
  },
  {
   "cell_type": "code",
   "execution_count": 4,
   "metadata": {
    "collapsed": false
   },
   "outputs": [],
   "source": [
    "archive_senders = defaultdict(dict)\n",
    "for url, archive in archives.iteritems():\n",
    "    archive_senders[url] = archive.data[\"From\"]"
   ]
  },
  {
   "cell_type": "code",
   "execution_count": 5,
   "metadata": {
    "collapsed": false
   },
   "outputs": [],
   "source": [
    "archive_overlap = defaultdict(list)\n",
    "\n",
    "for i in range (0,len(archive_senders.keys())):\n",
    "    for j in range (i+1,len(archive_senders.keys())):\n",
    "        print 'computing overlap between ' +archive_senders.keys()[i]+' and '+archive_senders.keys()[j]\n",
    "        overlap = set(archive_senders[archive_senders.keys()[i]]) & set(archive_senders[archive_senders.keys()[j]])\n",
    "        if len(overlap)>0:\n",
    "            archive_overlap[archive_senders.keys()[i]].append({archive_senders.keys()[j]:list(overlap)})\n"
   ]
  },
  {
   "cell_type": "code",
   "execution_count": 6,
   "metadata": {
    "collapsed": false
   },
   "outputs": [
    {
     "data": {
      "text/plain": [
       "defaultdict(list, {})"
      ]
     },
     "execution_count": 6,
     "metadata": {},
     "output_type": "execute_result"
    }
   ],
   "source": [
    "archive_overlap"
   ]
  },
  {
   "cell_type": "code",
   "execution_count": null,
   "metadata": {
    "collapsed": true
   },
   "outputs": [],
   "source": []
  }
 ],
 "metadata": {
  "kernelspec": {
   "display_name": "Python 2",
   "language": "python",
   "name": "python2"
  },
  "language_info": {
   "codemirror_mode": {
    "name": "ipython",
    "version": 2
   },
   "file_extension": ".py",
   "mimetype": "text/x-python",
   "name": "python",
   "nbconvert_exporter": "python",
   "pygments_lexer": "ipython2",
   "version": "2.7.11"
  }
 },
 "nbformat": 4,
 "nbformat_minor": 0
}
