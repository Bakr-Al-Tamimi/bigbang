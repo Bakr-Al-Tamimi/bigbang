{
 "cells": [
  {
   "cell_type": "markdown",
   "metadata": {},
   "source": [
    "This notebook compares the email activities and draft activites of an IETF working group."
   ]
  },
  {
   "cell_type": "markdown",
   "metadata": {},
   "source": [
    "Import the BigBang modules as needed. These should be in your Python environment if you've installed BigBang correctly."
   ]
  },
  {
   "cell_type": "code",
   "execution_count": 1,
   "metadata": {
    "jupyter": {
     "outputs_hidden": false
    }
   },
   "outputs": [
    {
     "name": "stderr",
     "output_type": "stream",
     "text": [
      "/home/sb/projects/bigbang-multi/bigbang/config/config.py:8: YAMLLoadWarning: calling yaml.load() without Loader=... is deprecated, as the default Loader is unsafe. Please read https://msg.pyyaml.org/load for full details.\n",
      "  dictionary = yaml.load(stream)\n"
     ]
    }
   ],
   "source": [
    "import bigbang.mailman as mailman\n",
    "from bigbang.parse import get_date\n",
    "#from bigbang.functions import *\n",
    "from bigbang.archive import Archive\n",
    "\n",
    "from ietfdata.datatracker import *"
   ]
  },
  {
   "cell_type": "markdown",
   "metadata": {},
   "source": [
    "Also, let's import a number of other dependencies we'll use later."
   ]
  },
  {
   "cell_type": "code",
   "execution_count": 2,
   "metadata": {
    "jupyter": {
     "outputs_hidden": false
    }
   },
   "outputs": [],
   "source": [
    "import pandas as pd\n",
    "import datetime\n",
    "import matplotlib.pyplot as plt\n",
    "import numpy as np\n",
    "import math\n",
    "import pytz\n",
    "import pickle\n",
    "import os"
   ]
  },
  {
   "cell_type": "markdown",
   "metadata": {},
   "source": [
    "Now let's load the email data for analysis."
   ]
  },
  {
   "cell_type": "code",
   "execution_count": 3,
   "metadata": {
    "jupyter": {
     "outputs_hidden": false
    }
   },
   "outputs": [
    {
     "name": "stderr",
     "output_type": "stream",
     "text": [
      "/home/sb/projects/bigbang-multi/bigbang/bigbang/mailman.py:157: UserWarning: No mailing list name found at hrpc\n",
      "  warnings.warn(\"No mailing list name found at %s\" % url)\n"
     ]
    }
   ],
   "source": [
    "urls = [\"hrpc\"]\n",
    "\n",
    "archives = [Archive(url,mbox=True) for url in urls]\n",
    "\n",
    "activities = [arx.get_activity(resolved=False) for arx in archives]"
   ]
  },
  {
   "cell_type": "markdown",
   "metadata": {},
   "source": [
    "Next, we will use the `ietfdata` tracker to look at the frequency of drafts for this working group."
   ]
  },
  {
   "cell_type": "code",
   "execution_count": 4,
   "metadata": {},
   "outputs": [],
   "source": [
    "dt = DataTracker()\n",
    "\n",
    "group = dt.group_from_acronym('hrpc')\n",
    "\n",
    "def extract_data(doc):\n",
    "    data = {}\n",
    "    data['title'] = doc.title\n",
    "    data['time'] = doc.time\n",
    "    data['affiliation'] = [\n",
    "        doc_author.affiliation\n",
    "        for doc_author\n",
    "        in dt.document_authors(doc)\n",
    "    ]\n",
    "    data['group-acronym'] = dt.group(doc.group).acronym\n",
    "    data['type'] = doc.type.uri\n",
    "\n",
    "    return data\n",
    "\n",
    "drafts = dt.documents(group = group,\n",
    "                      doctype = dt.document_type(\n",
    "                          DocumentTypeURI(\"/api/v1/name/doctypename/draft\")))\n",
    "\n",
    "draft_df = pd.DataFrame(data=[extract_data(x) for x in drafts])"
   ]
  },
  {
   "cell_type": "code",
   "execution_count": 19,
   "metadata": {},
   "outputs": [
    {
     "data": {
      "text/plain": [
       "0    2016-08-27\n",
       "2    2018-08-20\n",
       "4    2018-08-27\n",
       "1    2018-12-20\n",
       "7    2020-03-08\n",
       "5    2020-03-09\n",
       "6    2020-03-31\n",
       "Name: time, dtype: object"
      ]
     },
     "execution_count": 19,
     "metadata": {},
     "output_type": "execute_result"
    }
   ],
   "source": [
    "draft_df['time'].dt.date.drop_duplicates().sort_values()"
   ]
  },
  {
   "cell_type": "code",
   "execution_count": 23,
   "metadata": {},
   "outputs": [],
   "source": [
    "draft_dates = pd.Series(index=draft_df['time'].dt.date.drop_duplicates().sort_values(),\n",
    "                        data=1)"
   ]
  },
  {
   "cell_type": "code",
   "execution_count": null,
   "metadata": {
    "scrolled": true
   },
   "outputs": [],
   "source": []
  },
  {
   "cell_type": "code",
   "execution_count": 24,
   "metadata": {},
   "outputs": [
    {
     "data": {
      "text/plain": [
       "time\n",
       "2016-08-27    1\n",
       "2018-08-20    1\n",
       "2018-08-27    1\n",
       "2018-12-20    1\n",
       "2020-03-08    1\n",
       "2020-03-09    1\n",
       "2020-03-31    1\n",
       "dtype: int64"
      ]
     },
     "execution_count": 24,
     "metadata": {},
     "output_type": "execute_result"
    }
   ],
   "source": [
    "draft_dates"
   ]
  },
  {
   "cell_type": "markdown",
   "metadata": {},
   "source": [
    "This variable is for the range of days used in computing rolling averages."
   ]
  },
  {
   "cell_type": "code",
   "execution_count": 25,
   "metadata": {
    "jupyter": {
     "outputs_hidden": false
    }
   },
   "outputs": [],
   "source": [
    "window = 100"
   ]
  },
  {
   "cell_type": "markdown",
   "metadata": {},
   "source": [
    "For each of the mailing lists we are looking at, plot the rolling average of number of emails sent per day."
   ]
  },
  {
   "cell_type": "code",
   "execution_count": 29,
   "metadata": {
    "jupyter": {
     "outputs_hidden": false
    },
    "scrolled": true
   },
   "outputs": [
    {
     "name": "stderr",
     "output_type": "stream",
     "text": [
      "/home/sb/projects/bigbang-multi/bigbang/bigbang/mailman.py:157: UserWarning: No mailing list name found at hrpc\n",
      "  warnings.warn(\"No mailing list name found at %s\" % url)\n"
     ]
    },
    {
     "data": {
      "image/png": "[encoded data removed]",
      "text/plain": [
       "<Figure size 900x540 with 1 Axes>"
      ]
     },
     "metadata": {
      "needs_background": "light"
     },
     "output_type": "display_data"
    }
   ],
   "source": [
    "plt.figure(figsize=(12.5, 7.5))\n",
    "\n",
    "plt.plot_date(draft_dates.index, draft_dates.values, label='hrpc drafts')\n",
    "\n",
    "for i, activity in enumerate(activities):\n",
    "\n",
    "    colors = 'rgbkm'\n",
    "\n",
    "    ta = activity.sum(1)\n",
    "    rmta = ta.rolling(window).mean()\n",
    "    rmtadna = rmta.dropna()\n",
    "    plt.plot_date(np.array(rmtadna.index),\n",
    "                  np.array(rmtadna.values),\n",
    "                  colors[i],\n",
    "                  label=mailman.get_list_name(urls[i]) + ' email activity',\n",
    "                  xdate=True)\n",
    "\n",
    "    plt.legend()\n",
    "    \n",
    "plt.title(\"HRPC working group emails and drafts\")\n",
    "\n",
    "plt.savefig(\"activites-marked.png\")\n",
    "plt.show()"
   ]
  },
  {
   "cell_type": "code",
   "execution_count": null,
   "metadata": {},
   "outputs": [],
   "source": []
  }
 ],
 "metadata": {
  "kernelspec": {
   "display_name": "bigbang3",
   "language": "python",
   "name": "myenv"
  },
  "language_info": {
   "codemirror_mode": {
    "name": "ipython",
    "version": 3
   },
   "file_extension": ".py",
   "mimetype": "text/x-python",
   "name": "python",
   "nbconvert_exporter": "python",
   "pygments_lexer": "ipython3",
   "version": "3.7.6"
  },
  "latex_envs": {
   "LaTeX_envs_menu_present": true,
   "autoclose": false,
   "autocomplete": true,
   "bibliofile": "biblio.bib",
   "cite_by": "apalike",
   "current_citInitial": 1,
   "eqLabelWithNumbers": true,
   "eqNumInitial": 1,
   "hotkeys": {
    "equation": "Ctrl-E",
    "itemize": "Ctrl-I"
   },
   "labels_anchors": false,
   "latex_user_defs": false,
   "report_style_numbering": false,
   "user_envs_cfg": false
  },
  "toc": {
   "base_numbering": 1,
   "nav_menu": {},
   "number_sections": true,
   "sideBar": true,
   "skip_h1_title": false,
   "title_cell": "Table of Contents",
   "title_sidebar": "Contents",
   "toc_cell": false,
   "toc_position": {},
   "toc_section_display": true,
   "toc_window_display": false
  }
 },
 "nbformat": 4,
 "nbformat_minor": 4
}
