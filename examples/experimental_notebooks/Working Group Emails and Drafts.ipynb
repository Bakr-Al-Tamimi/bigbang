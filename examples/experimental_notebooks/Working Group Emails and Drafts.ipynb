{
 "cells": [
  {
   "cell_type": "markdown",
   "metadata": {},
   "source": [
    "This notebook compares the email activities and draft activites of an IETF working group."
   ]
  },
  {
   "cell_type": "markdown",
   "metadata": {},
   "source": [
    "Import the BigBang modules as needed. These should be in your Python environment if you've installed BigBang correctly."
   ]
  },
  {
   "cell_type": "code",
   "execution_count": 1,
   "metadata": {
    "jupyter": {
     "outputs_hidden": false
    }
   },
   "outputs": [
    {
     "name": "stderr",
     "output_type": "stream",
     "text": [
      "/home/sb/projects/bigbang-multi/bigbang/config/config.py:8: YAMLLoadWarning: calling yaml.load() without Loader=... is deprecated, as the default Loader is unsafe. Please read https://msg.pyyaml.org/load for full details.\n",
      "  dictionary = yaml.load(stream)\n"
     ]
    }
   ],
   "source": [
    "import bigbang.mailman as mailman\n",
    "from bigbang.parse import get_date\n",
    "#from bigbang.functions import *\n",
    "from bigbang.archive import Archive\n",
    "\n",
    "from ietfdata.datatracker import *"
   ]
  },
  {
   "cell_type": "markdown",
   "metadata": {},
   "source": [
    "Also, let's import a number of other dependencies we'll use later."
   ]
  },
  {
   "cell_type": "code",
   "execution_count": 2,
   "metadata": {
    "jupyter": {
     "outputs_hidden": false
    }
   },
   "outputs": [],
   "source": [
    "import pandas as pd\n",
    "import datetime\n",
    "import matplotlib.pyplot as plt\n",
    "import numpy as np\n",
    "import math\n",
    "import pytz\n",
    "import pickle\n",
    "import os"
   ]
  },
  {
   "cell_type": "markdown",
   "metadata": {},
   "source": [
    "## Load the HRPC Mailing List\n",
    "\n",
    "Now let's load the email data for analysis."
   ]
  },
  {
   "cell_type": "code",
   "execution_count": 3,
   "metadata": {
    "jupyter": {
     "outputs_hidden": false
    }
   },
   "outputs": [
    {
     "name": "stderr",
     "output_type": "stream",
     "text": [
      "/home/sb/projects/bigbang-multi/bigbang/bigbang/mailman.py:157: UserWarning: No mailing list name found at hrpc\n",
      "  warnings.warn(\"No mailing list name found at %s\" % url)\n"
     ]
    }
   ],
   "source": [
    "urls = [\"hrpc\"]\n",
    "\n",
    "archives = [Archive(url,mbox=True) for url in urls]\n",
    "\n",
    "activities = [arx.get_activity(resolved=False) for arx in archives]\n",
    "activity = activities[0]"
   ]
  },
  {
   "cell_type": "markdown",
   "metadata": {},
   "source": [
    "## Load IETF Draft Data\n",
    "\n",
    "Next, we will use the `ietfdata` tracker to look at the frequency of drafts for this working group."
   ]
  },
  {
   "cell_type": "code",
   "execution_count": 4,
   "metadata": {},
   "outputs": [],
   "source": [
    "dt = DataTracker()\n",
    "\n",
    "group = dt.group_from_acronym('hrpc')\n",
    "\n",
    "def extract_data(doc):\n",
    "    data = {}\n",
    "    data['title'] = doc.title\n",
    "    data['time'] = doc.time\n",
    "    \n",
    "    data['person'] = [\n",
    "        dt.person(doc_author.person)\n",
    "        for doc_author\n",
    "        in dt.document_authors(doc)\n",
    "    ]\n",
    "\n",
    "    data['affiliation'] = [\n",
    "        doc_author.affiliation\n",
    "        for doc_author\n",
    "        in dt.document_authors(doc)\n",
    "    ]\n",
    "    data['group-acronym'] = dt.group(doc.group).acronym\n",
    "    data['type'] = doc.type.uri\n",
    "\n",
    "    return data\n",
    "\n",
    "drafts = dt.documents(group = group,\n",
    "                      doctype = dt.document_type(\n",
    "                          DocumentTypeURI(\"/api/v1/name/doctypename/draft\")))\n",
    "\n",
    "draft_df = pd.DataFrame(data=[extract_data(x) for x in drafts])"
   ]
  },
  {
   "cell_type": "markdown",
   "metadata": {},
   "source": [
    "We will want to use the data of the drafts. Time resolution is too small."
   ]
  },
  {
   "cell_type": "code",
   "execution_count": 5,
   "metadata": {},
   "outputs": [],
   "source": [
    "draft_df['date'] = draft_df['time'].dt.date"
   ]
  },
  {
   "cell_type": "markdown",
   "metadata": {},
   "source": [
    "## Gender score and tendency measures\n",
    "\n",
    "This notebook uses the (notably imperfect) method of using first names to guess the gender of each draft author."
   ]
  },
  {
   "cell_type": "code",
   "execution_count": 6,
   "metadata": {},
   "outputs": [],
   "source": [
    "from gender_detector import gender_detector as gd\n",
    "detector = gd.GenderDetector('us')\n",
    "\n",
    "def gender_score(name):\n",
    "    \"\"\"\n",
    "    Takes a full name and returns a score for the guessed\n",
    "    gender.\n",
    "    \n",
    "    1 - male\n",
    "    0 - female\n",
    "    .5 - unknown\n",
    "    \"\"\"\n",
    "    try:\n",
    "        first_name = name.split(\" \")[0]\n",
    "        guess = detector.guess(first_name)\n",
    "        score = 0\n",
    "        if guess == \"male\":\n",
    "            return 1.0\n",
    "        elif guess == \"female\":\n",
    "            return 0.0\n",
    "        else:\n",
    "            # name does not have confidence to guesss\n",
    "            return 0.5\n",
    "    except:\n",
    "        # Some error, \"unknown\"\n",
    "        return .5"
   ]
  },
  {
   "cell_type": "markdown",
   "metadata": {},
   "source": [
    "## Gender guesses for draft authors"
   ]
  },
  {
   "cell_type": "markdown",
   "metadata": {},
   "source": [
    "This is used to get a gender guess for each author. This illustrates and tests gender scoring on a small known sample."
   ]
  },
  {
   "cell_type": "code",
   "execution_count": 7,
   "metadata": {},
   "outputs": [
    {
     "data": {
      "text/plain": [
       "0                 [(Niels ten, 1.0), (Corinne C, 0.0)]\n",
       "1                 [(Niels ten, 1.0), (Corinne C, 0.0)]\n",
       "2                 [(Niels ten, 1.0), (Gisela Pe, 0.0)]\n",
       "3                 [(Niels ten, 1.0), (Amelia An, 0.0)]\n",
       "4                 [(Stéphane , 0.5), (Niels ten, 1.0)]\n",
       "5                 [(Gurshabad, 0.5), (Niels ten, 1.0)]\n",
       "6                                   [(Niels ten, 1.0)]\n",
       "7    [(Niels ten, 1.0), (=?utf-8?q, 0.5), (Gisela P...\n",
       "Name: person, dtype: object"
      ]
     },
     "execution_count": 7,
     "metadata": {},
     "output_type": "execute_result"
    }
   ],
   "source": [
    "draft_df['person'].apply(lambda x : [(p.name[:9], gender_score(p.name))\n",
    "                                     for p \n",
    "                                     in x])"
   ]
  },
  {
   "cell_type": "markdown",
   "metadata": {},
   "source": [
    "The average gender score is used as the 'gender tendency' of the draft."
   ]
  },
  {
   "cell_type": "code",
   "execution_count": 8,
   "metadata": {},
   "outputs": [],
   "source": [
    "draft_df['gender tendency'] = draft_df['person'].apply(\n",
    "    lambda x : sum([gender_score(p.name)\n",
    "                    for p \n",
    "                    in x]) / float(len(x)))"
   ]
  },
  {
   "cell_type": "markdown",
   "metadata": {},
   "source": [
    "## Gender guesses on mailing list activity\n",
    "\n",
    "Now to use the gender guesser to track the contributions by differently gendered participants over time."
   ]
  },
  {
   "cell_type": "code",
   "execution_count": 9,
   "metadata": {},
   "outputs": [],
   "source": [
    "from bigbang.parse import clean_name"
   ]
  },
  {
   "cell_type": "code",
   "execution_count": 10,
   "metadata": {},
   "outputs": [],
   "source": [
    "gender_activity = activity.groupby(\n",
    "    by=lambda x: gender_score(clean_name(x)),\n",
    "    axis=1).sum().rename({0.0 : \"women\", 0.5 : \"unknown\", 1.0 : \"men\"},\n",
    "                        axis=\"columns\")"
   ]
  },
  {
   "cell_type": "markdown",
   "metadata": {},
   "source": [
    "Note that our gender scoring method currently is unable to get a clear guess for a large percentage of the emails!"
   ]
  },
  {
   "cell_type": "code",
   "execution_count": 11,
   "metadata": {},
   "outputs": [
    {
     "name": "stdout",
     "output_type": "stream",
     "text": [
      "0.387245.2 percent of emails are from an unknown gender.\n"
     ]
    },
    {
     "data": {
      "text/plain": [
       "Text(0.5, 1.0, 'Total emails sent by guessed gender')"
      ]
     },
     "execution_count": 11,
     "metadata": {},
     "output_type": "execute_result"
    },
    {
     "data": {
      "image/png": "[encoded data removed]",
      "text/plain": [
       "<Figure size 432x288 with 1 Axes>"
      ]
     },
     "metadata": {
      "needs_background": "light"
     },
     "output_type": "display_data"
    }
   ],
   "source": [
    "print(\"%f.2 percent of emails are from an unknown gender.\" \\\n",
    "      % (gender_activity[\"unknown\"].sum() / gender_activity.sum().sum()))\n",
    "\n",
    "plt.bar([\"women\",\"unknown\",\"men\"],gender_activity.sum())\n",
    "plt.title(\"Total emails sent by guessed gender\")"
   ]
  },
  {
   "cell_type": "markdown",
   "metadata": {},
   "source": [
    "## Plotting\n",
    "\n",
    "Some preprocessing is necessary to get the drafts data ready for plotting."
   ]
  },
  {
   "cell_type": "code",
   "execution_count": 12,
   "metadata": {},
   "outputs": [],
   "source": [
    "from matplotlib import cm\n",
    "\n",
    "viridis = cm.get_cmap('viridis')"
   ]
  },
  {
   "cell_type": "code",
   "execution_count": 13,
   "metadata": {},
   "outputs": [],
   "source": [
    "drafts_per_day = draft_df.groupby('date').count()['title']"
   ]
  },
  {
   "cell_type": "code",
   "execution_count": 14,
   "metadata": {},
   "outputs": [],
   "source": [
    "draft_gt_per_day = draft_df.groupby('date').mean()['gender tendency'].apply(\n",
    "    lambda x : viridis(x)\n",
    ")"
   ]
  },
  {
   "cell_type": "markdown",
   "metadata": {},
   "source": [
    "For each of the mailing lists we are looking at, plot the rolling average (over `window`) of number of emails sent per day.\n",
    "\n",
    "Then plot a vertical line with the height of the drafts count and colored by the gender tendency."
   ]
  },
  {
   "cell_type": "code",
   "execution_count": 15,
   "metadata": {
    "jupyter": {
     "outputs_hidden": false
    }
   },
   "outputs": [],
   "source": [
    "window = 100"
   ]
  },
  {
   "cell_type": "code",
   "execution_count": 16,
   "metadata": {
    "jupyter": {
     "outputs_hidden": false
    },
    "scrolled": true
   },
   "outputs": [
    {
     "data": {
      "text/plain": [
       "Text(0.5, 1.0, 'HRPC working group emails and drafts')"
      ]
     },
     "execution_count": 16,
     "metadata": {},
     "output_type": "execute_result"
    },
    {
     "data": {
      "image/png": "[encoded data removed]",
      "text/plain": [
       "<Figure size 864x432 with 1 Axes>"
      ]
     },
     "metadata": {
      "needs_background": "light"
     },
     "output_type": "display_data"
    }
   ],
   "source": [
    "plt.figure(figsize=(12, 6))\n",
    "\n",
    "for i, gender in enumerate(gender_activity.columns):\n",
    "\n",
    "    colors = [viridis(0), viridis(.5), viridis(.99)]\n",
    "\n",
    "    ta = gender_activity[gender]\n",
    "    rmta = ta.rolling(window).mean()\n",
    "    rmtadna = rmta.dropna()\n",
    "    plt.plot_date(np.array(rmtadna.index),\n",
    "                  np.array(rmtadna.values),\n",
    "                  color = colors[i],\n",
    "                  linestyle = '-', marker = None,\n",
    "                  label='hrpc email activity - %s' % (gender),\n",
    "                  xdate=True)\n",
    "\n",
    "\n",
    "vax = plt.vlines(drafts_per_day.index,\n",
    "           0,\n",
    "           drafts_per_day,\n",
    "           colors = 'r', # draft_gt_per_day,\n",
    "           cmap = 'viridis',\n",
    "           label='hrpc drafts')\n",
    "\n",
    "plt.legend()\n",
    "plt.title(\"HRPC working group emails and drafts\")\n",
    "#plt.colorbar(vax, label = \"more womanly <-- Gender Tendency --> more manly\")\n",
    "\n",
    "#plt.savefig(\"activites-marked.png\")\n",
    "#plt.show()"
   ]
  },
  {
   "cell_type": "code",
   "execution_count": null,
   "metadata": {},
   "outputs": [],
   "source": []
  }
 ],
 "metadata": {
  "kernelspec": {
   "display_name": "bigbang3",
   "language": "python",
   "name": "myenv"
  },
  "language_info": {
   "codemirror_mode": {
    "name": "ipython",
    "version": 3
   },
   "file_extension": ".py",
   "mimetype": "text/x-python",
   "name": "python",
   "nbconvert_exporter": "python",
   "pygments_lexer": "ipython3",
   "version": "3.7.6"
  },
  "latex_envs": {
   "LaTeX_envs_menu_present": true,
   "autoclose": false,
   "autocomplete": true,
   "bibliofile": "biblio.bib",
   "cite_by": "apalike",
   "current_citInitial": 1,
   "eqLabelWithNumbers": true,
   "eqNumInitial": 1,
   "hotkeys": {
    "equation": "Ctrl-E",
    "itemize": "Ctrl-I"
   },
   "labels_anchors": false,
   "latex_user_defs": false,
   "report_style_numbering": false,
   "user_envs_cfg": false
  },
  "toc": {
   "base_numbering": 1,
   "nav_menu": {},
   "number_sections": true,
   "sideBar": true,
   "skip_h1_title": false,
   "title_cell": "Table of Contents",
   "title_sidebar": "Contents",
   "toc_cell": false,
   "toc_position": {},
   "toc_section_display": true,
   "toc_window_display": false
  }
 },
 "nbformat": 4,
 "nbformat_minor": 4
}
