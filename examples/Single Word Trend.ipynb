{
 "cells": [
  {
   "cell_type": "markdown",
   "metadata": {},
   "source": [
    "## This note book gives the trend of a single word in single mailing list."
   ]
  },
  {
   "cell_type": "code",
   "execution_count": 1,
   "metadata": {
    "collapsed": false
   },
   "outputs": [],
   "source": [
    "%matplotlib inline"
   ]
  },
  {
   "cell_type": "code",
   "execution_count": 2,
   "metadata": {
    "collapsed": false
   },
   "outputs": [],
   "source": [
    "from bigbang.archive import Archive\n",
    "import bigbang.parse as parse\n",
    "import bigbang.graph as graph\n",
    "import bigbang.mailman as mailman\n",
    "import bigbang.process as process\n",
    "import networkx as nx\n",
    "import matplotlib.pyplot as plt\n",
    "import pandas as pd\n",
    "from pprint import pprint as pp\n",
    "import pytz\n",
    "import numpy as np\n",
    "import math\n",
    "import nltk\n",
    "from itertools import repeat\n",
    "from nltk.stem.lancaster import LancasterStemmer\n",
    "st = LancasterStemmer()\n",
    "from nltk.corpus import stopwords\n",
    "import re"
   ]
  },
  {
   "cell_type": "code",
   "execution_count": 3,
   "metadata": {
    "collapsed": false
   },
   "outputs": [
    {
     "name": "stdout",
     "output_type": "stream",
     "text": [
      "Opening 138 archive files\n"
     ]
    }
   ],
   "source": [
    "urls = [\"http://mail.scipy.org/pipermail/ipython-dev/\"]#,\n",
    "        #\"http://mail.scipy.org/pipermail/ipython-user/\"],\n",
    "        #\"http://mail.scipy.org/pipermail/scipy-dev/\",\n",
    "        #\"http://mail.scipy.org/pipermail/scipy-user/\",\n",
    "        #\"http://mail.scipy.org/pipermail/numpy-discussion/\"]\n",
    "\n",
    "\n",
    "archives= [Archive(url,archive_dir=\"../archives\") for url in urls]"
   ]
  },
  {
   "cell_type": "code",
   "execution_count": 4,
   "metadata": {
    "collapsed": false
   },
   "outputs": [],
   "source": [
    "checkword = \"python\" #can change words, should be lower case"
   ]
  },
  {
   "cell_type": "code",
   "execution_count": 5,
   "metadata": {
    "collapsed": false
   },
   "outputs": [],
   "source": [
    "df = pd.DataFrame(columns=[\"MessageId\",\"Date\",\"From\",\"In-Reply-To\",\"Count\"])\n",
    "for row in archives[0].data.iterrows():\n",
    "    try: \n",
    "        w = row[1][\"Body\"].replace(\"'\", \"\")\n",
    "        k = re.sub(r'[^\\w]', ' ', w)\n",
    "        k = k.lower()\n",
    "        t = nltk.tokenize.word_tokenize(k)\n",
    "        subdict = {}\n",
    "        count = 0\n",
    "        for g in t:\n",
    "            try:\n",
    "                word = st.stem(g)\n",
    "            except:\n",
    "                print g\n",
    "                pass\n",
    "            if word == checkword:\n",
    "                count += 1\n",
    "        if count == 0:\n",
    "            continue\n",
    "        else:\n",
    "            subdict[\"MessageId\"] = row[0]\n",
    "            subdict[\"Date\"] = row[1][\"Date\"]\n",
    "            subdict[\"From\"] = row[1][\"From\"]\n",
    "            subdict[\"In-Reply-To\"] = row[1][\"In-Reply-To\"]\n",
    "            subdict[\"Count\"] = count\n",
    "            df = df.append(subdict,ignore_index=True)\n",
    "    except:\n",
    "        if row[1][\"Body\"] is None: \n",
    "            print '!!! Detected an email with an empty Body field...'\n",
    "        else: print 'error'"
   ]
  },
  {
   "cell_type": "code",
   "execution_count": 6,
   "metadata": {
    "collapsed": false
   },
   "outputs": [
    {
     "data": {
      "text/html": [
       "<div style=\"max-height:1000px;max-width:1500px;overflow:auto;\">\n",
       "<table border=\"1\" class=\"dataframe\">\n",
       "  <thead>\n",
       "    <tr style=\"text-align: right;\">\n",
       "      <th></th>\n",
       "      <th>MessageId</th>\n",
       "      <th>Date</th>\n",
       "      <th>From</th>\n",
       "      <th>In-Reply-To</th>\n",
       "      <th>Count</th>\n",
       "    </tr>\n",
       "  </thead>\n",
       "  <tbody>\n",
       "    <tr>\n",
       "      <th>0</th>\n",
       "      <td>                   &lt;3E9E4094.7030802@colorado.edu&gt;</td>\n",
       "      <td> 2003-04-16 23:50:12-06:00</td>\n",
       "      <td>    fperez@colorado.edu (Fernando Perez)</td>\n",
       "      <td> &lt;003d01c28a9a$3dcb8560$e301340a@cyberhigh.fcoe...</td>\n",
       "      <td> 2</td>\n",
       "    </tr>\n",
       "    <tr>\n",
       "      <th>1</th>\n",
       "      <td>                   &lt;3E9E4094.7030802@colorado.edu&gt;</td>\n",
       "      <td> 2003-04-16 23:50:12-06:00</td>\n",
       "      <td> fperez at colorado.edu (Fernando Perez)</td>\n",
       "      <td> &lt;003d01c28a9a$3dcb8560$e301340a@cyberhigh.fcoe...</td>\n",
       "      <td> 2</td>\n",
       "    </tr>\n",
       "    <tr>\n",
       "      <th>2</th>\n",
       "      <td> &lt;000c01c304ee$3cb79e60$e901340a@cyberhigh.fcoe...</td>\n",
       "      <td> 2003-04-17 07:32:56-07:00</td>\n",
       "      <td>        cdodt@fcoe.k12.ca.us (Cory Dodt)</td>\n",
       "      <td>                   &lt;3E9E4094.7030802@colorado.edu&gt;</td>\n",
       "      <td> 3</td>\n",
       "    </tr>\n",
       "    <tr>\n",
       "      <th>3</th>\n",
       "      <td> &lt;000c01c304ee$3cb79e60$e901340a@cyberhigh.fcoe...</td>\n",
       "      <td> 2003-04-17 07:32:56-07:00</td>\n",
       "      <td>     cdodt at fcoe.k12.ca.us (Cory Dodt)</td>\n",
       "      <td>                   &lt;3E9E4094.7030802@colorado.edu&gt;</td>\n",
       "      <td> 3</td>\n",
       "    </tr>\n",
       "    <tr>\n",
       "      <th>4</th>\n",
       "      <td>                   &lt;3E9EC1CA.3060800@colorado.edu&gt;</td>\n",
       "      <td> 2003-04-17 09:01:30-06:00</td>\n",
       "      <td>    fperez@colorado.edu (Fernando Perez)</td>\n",
       "      <td> &lt;000c01c304ee$3cb79e60$e901340a@cyberhigh.fcoe...</td>\n",
       "      <td> 6</td>\n",
       "    </tr>\n",
       "  </tbody>\n",
       "</table>\n",
       "<p>5 rows × 5 columns</p>\n",
       "</div>"
      ],
      "text/plain": [
       "                                           MessageId  \\\n",
       "0                    <3E9E4094.7030802@colorado.edu>   \n",
       "1                    <3E9E4094.7030802@colorado.edu>   \n",
       "2  <000c01c304ee$3cb79e60$e901340a@cyberhigh.fcoe...   \n",
       "3  <000c01c304ee$3cb79e60$e901340a@cyberhigh.fcoe...   \n",
       "4                    <3E9EC1CA.3060800@colorado.edu>   \n",
       "\n",
       "                        Date                                     From  \\\n",
       "0  2003-04-16 23:50:12-06:00     fperez@colorado.edu (Fernando Perez)   \n",
       "1  2003-04-16 23:50:12-06:00  fperez at colorado.edu (Fernando Perez)   \n",
       "2  2003-04-17 07:32:56-07:00         cdodt@fcoe.k12.ca.us (Cory Dodt)   \n",
       "3  2003-04-17 07:32:56-07:00      cdodt at fcoe.k12.ca.us (Cory Dodt)   \n",
       "4  2003-04-17 09:01:30-06:00     fperez@colorado.edu (Fernando Perez)   \n",
       "\n",
       "                                         In-Reply-To Count  \n",
       "0  <003d01c28a9a$3dcb8560$e301340a@cyberhigh.fcoe...     2  \n",
       "1  <003d01c28a9a$3dcb8560$e301340a@cyberhigh.fcoe...     2  \n",
       "2                    <3E9E4094.7030802@colorado.edu>     3  \n",
       "3                    <3E9E4094.7030802@colorado.edu>     3  \n",
       "4  <000c01c304ee$3cb79e60$e901340a@cyberhigh.fcoe...     6  \n",
       "\n",
       "[5 rows x 5 columns]"
      ]
     },
     "execution_count": 6,
     "metadata": {},
     "output_type": "execute_result"
    }
   ],
   "source": [
    "df[:5]  #dataframe of informations of the particular word."
   ]
  },
  {
   "cell_type": "code",
   "execution_count": 7,
   "metadata": {
    "collapsed": false
   },
   "outputs": [],
   "source": [
    "start_date = df.iloc[0][\"Date\"]\n",
    "end_date = df.iloc[len(df.index)-1][\"Date\"]"
   ]
  },
  {
   "cell_type": "code",
   "execution_count": 8,
   "metadata": {
    "collapsed": false
   },
   "outputs": [
    {
     "data": {
      "text/plain": [
       "datetime.datetime(2003, 4, 16, 23, 50, 12, tzinfo=tzoffset(None, -21600))"
      ]
     },
     "execution_count": 8,
     "metadata": {},
     "output_type": "execute_result"
    }
   ],
   "source": [
    "start_date"
   ]
  },
  {
   "cell_type": "code",
   "execution_count": 9,
   "metadata": {
    "collapsed": false
   },
   "outputs": [
    {
     "data": {
      "text/plain": [
       "datetime.datetime(2014, 9, 22, 16, 52, 34, tzinfo=tzoffset(None, 7200))"
      ]
     },
     "execution_count": 9,
     "metadata": {},
     "output_type": "execute_result"
    }
   ],
   "source": [
    "end_date"
   ]
  },
  {
   "cell_type": "code",
   "execution_count": 10,
   "metadata": {
    "collapsed": false
   },
   "outputs": [],
   "source": [
    "total_month = (end_date.year - start_date.year)*12 + (end_date.month-start_date.month+1)"
   ]
  },
  {
   "cell_type": "code",
   "execution_count": 11,
   "metadata": {
    "collapsed": false
   },
   "outputs": [
    {
     "data": {
      "text/plain": [
       "138"
      ]
     },
     "execution_count": 11,
     "metadata": {},
     "output_type": "execute_result"
    }
   ],
   "source": [
    "total_month"
   ]
  },
  {
   "cell_type": "code",
   "execution_count": 12,
   "metadata": {
    "collapsed": false
   },
   "outputs": [],
   "source": [
    "k_month = []\n",
    "temp_year = start_date.year\n",
    "temp_month = start_date.month\n",
    "for i in range(total_month):\n",
    "    k_month.append((temp_year, temp_month))\n",
    "    if temp_month == 12:\n",
    "        temp_year += 1\n",
    "        temp_month = 0\n",
    "    temp_month += 1"
   ]
  },
  {
   "cell_type": "code",
   "execution_count": 16,
   "metadata": {
    "collapsed": false
   },
   "outputs": [],
   "source": [
    "time_dict = {}\n",
    "for row in df.iterrows():\n",
    "    if (row[1]['Date'].year, row[1]['Date'].month) not in time_dict:\n",
    "        time_dict[(row[1]['Date'].year, row[1]['Date'].month)] = row[1][\"Count\"]\n",
    "    else:\n",
    "        time_dict[(row[1]['Date'].year, row[1]['Date'].month)] += row[1][\"Count\"]"
   ]
  },
  {
   "cell_type": "code",
   "execution_count": 17,
   "metadata": {
    "collapsed": false
   },
   "outputs": [],
   "source": [
    "by_month = []\n",
    "for item in k_month:\n",
    "    if item in time_dict:\n",
    "        by_month.append(time_dict[item])\n",
    "    else:\n",
    "        by_month.append(0)"
   ]
  },
  {
   "cell_type": "code",
   "execution_count": 19,
   "metadata": {
    "collapsed": false
   },
   "outputs": [
    {
     "data": {
      "text/plain": [
       "<matplotlib.text.Text at 0x10829fa50>"
      ]
     },
     "execution_count": 19,
     "metadata": {},
     "output_type": "execute_result"
    },
    {
     "data": {
      "image/png": "[encoded data removed]",
      "text/plain": [
       "<matplotlib.figure.Figure at 0x1082f39d0>"
      ]
     },
     "metadata": {},
     "output_type": "display_data"
    }
   ],
   "source": [
    "x = range(1,total_month+1)\n",
    "y = by_month\n",
    "plt.plot(x, y)\n",
    "plt.xlabel(\"month\")"
   ]
  },
  {
   "cell_type": "code",
   "execution_count": 20,
   "metadata": {
    "collapsed": false
   },
   "outputs": [
    {
     "data": {
      "text/plain": [
       "469"
      ]
     },
     "execution_count": 20,
     "metadata": {},
     "output_type": "execute_result"
    }
   ],
   "source": [
    "y[62] #highest"
   ]
  },
  {
   "cell_type": "code",
   "execution_count": 21,
   "metadata": {
    "collapsed": false
   },
   "outputs": [
    {
     "data": {
      "text/plain": [
       "(2008, 6)"
      ]
     },
     "execution_count": 21,
     "metadata": {},
     "output_type": "execute_result"
    }
   ],
   "source": [
    "#Check which month is 62\n",
    "k_month[62]"
   ]
  },
  {
   "cell_type": "code",
   "execution_count": null,
   "metadata": {
    "collapsed": false
   },
   "outputs": [],
   "source": []
  }
 ],
 "metadata": {
  "kernelspec": {
   "display_name": "Python 2",
   "language": "python",
   "name": "python2"
  },
  "language_info": {
   "codemirror_mode": {
    "name": "ipython",
    "version": 2
   },
   "file_extension": ".py",
   "mimetype": "text/x-python",
   "name": "python",
   "nbconvert_exporter": "python",
   "pygments_lexer": "ipython2",
   "version": "2.7.9"
  }
 },
 "nbformat": 4,
 "nbformat_minor": 0
}
